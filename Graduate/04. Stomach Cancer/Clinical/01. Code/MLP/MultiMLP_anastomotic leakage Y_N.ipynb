{
 "cells": [
  {
   "cell_type": "code",
   "execution_count": 1,
   "id": "105fd01b",
   "metadata": {},
   "outputs": [
    {
     "data": {
      "text/plain": [
       "True"
      ]
     },
     "execution_count": 1,
     "metadata": {},
     "output_type": "execute_result"
    }
   ],
   "source": [
    "import numpy as np\n",
    "import pandas as pd\n",
    "import os\n",
    "import math\n",
    "import matplotlib.pyplot as plt\n",
    "\n",
    "import torch\n",
    "import torch.nn as nn\n",
    "import torch.nn.functional as F\n",
    "import torch.optim as optim\n",
    "\n",
    "import adabound\n",
    "from sklearn.metrics import accuracy_score, roc_auc_score\n",
    "torch.cuda.is_available()"
   ]
  },
  {
   "cell_type": "code",
   "execution_count": 2,
   "id": "66ba333a",
   "metadata": {},
   "outputs": [],
   "source": [
    "mydata = pd.read_csv('D:/Cho Lab Dropbox/연구과제별정리/02 목적과제_SPPEC_암종별(임상)_상희회준/위암/03 머신러닝_회준종혁다혜/01 Model/다혜/DL_data_220727.csv')"
   ]
  },
  {
   "cell_type": "code",
   "execution_count": 3,
   "id": "191a92d2",
   "metadata": {},
   "outputs": [],
   "source": [
    "mydata = mydata[mydata['Age']>74]"
   ]
  },
  {
   "cell_type": "code",
   "execution_count": 4,
   "id": "d18f2db6",
   "metadata": {},
   "outputs": [
    {
     "data": {
      "text/html": [
       "<div>\n",
       "<style scoped>\n",
       "    .dataframe tbody tr th:only-of-type {\n",
       "        vertical-align: middle;\n",
       "    }\n",
       "\n",
       "    .dataframe tbody tr th {\n",
       "        vertical-align: top;\n",
       "    }\n",
       "\n",
       "    .dataframe thead th {\n",
       "        text-align: right;\n",
       "    }\n",
       "</style>\n",
       "<table border=\"1\" class=\"dataframe\">\n",
       "  <thead>\n",
       "    <tr style=\"text-align: right;\">\n",
       "      <th>Early_CC_AnastomoticLeakage</th>\n",
       "      <th>0</th>\n",
       "      <th>1</th>\n",
       "    </tr>\n",
       "    <tr>\n",
       "      <th>OP_year</th>\n",
       "      <th></th>\n",
       "      <th></th>\n",
       "    </tr>\n",
       "  </thead>\n",
       "  <tbody>\n",
       "    <tr>\n",
       "      <th>2014</th>\n",
       "      <td>71</td>\n",
       "      <td>3</td>\n",
       "    </tr>\n",
       "    <tr>\n",
       "      <th>2015</th>\n",
       "      <td>62</td>\n",
       "      <td>0</td>\n",
       "    </tr>\n",
       "    <tr>\n",
       "      <th>2016</th>\n",
       "      <td>64</td>\n",
       "      <td>1</td>\n",
       "    </tr>\n",
       "    <tr>\n",
       "      <th>2017</th>\n",
       "      <td>66</td>\n",
       "      <td>5</td>\n",
       "    </tr>\n",
       "    <tr>\n",
       "      <th>2018</th>\n",
       "      <td>51</td>\n",
       "      <td>6</td>\n",
       "    </tr>\n",
       "    <tr>\n",
       "      <th>2019</th>\n",
       "      <td>46</td>\n",
       "      <td>6</td>\n",
       "    </tr>\n",
       "    <tr>\n",
       "      <th>2020</th>\n",
       "      <td>78</td>\n",
       "      <td>1</td>\n",
       "    </tr>\n",
       "    <tr>\n",
       "      <th>2021</th>\n",
       "      <td>53</td>\n",
       "      <td>8</td>\n",
       "    </tr>\n",
       "  </tbody>\n",
       "</table>\n",
       "</div>"
      ],
      "text/plain": [
       "Early_CC_AnastomoticLeakage   0  1\n",
       "OP_year                           \n",
       "2014                         71  3\n",
       "2015                         62  0\n",
       "2016                         64  1\n",
       "2017                         66  5\n",
       "2018                         51  6\n",
       "2019                         46  6\n",
       "2020                         78  1\n",
       "2021                         53  8"
      ]
     },
     "execution_count": 4,
     "metadata": {},
     "output_type": "execute_result"
    }
   ],
   "source": [
    "event_data = mydata['Early_CC_AnastomoticLeakage']\n",
    "pd.crosstab(mydata['OP_year'], mydata['Early_CC_AnastomoticLeakage'])"
   ]
  },
  {
   "cell_type": "code",
   "execution_count": 5,
   "id": "9c473947",
   "metadata": {},
   "outputs": [],
   "source": [
    "pre_op_dat = mydata[['Sex', \n",
    "        'Age',\n",
    "        'ASA_Score',\n",
    "        'Smoking',\n",
    "        'Drinking',\n",
    "        'BMI',\n",
    "        'Hypertension',\n",
    "        'Diabetes',\n",
    "        'Ass_condition_grp',\n",
    "        'Ass_lesion',\n",
    "        'Clinical_Stage_grp ',\n",
    "        'Histology',\n",
    "        'Lauren',\n",
    "        'Reconstruction',\n",
    "        'Combined_Resection',\n",
    "        'Platelets',\n",
    "        'Albumin',\n",
    "        'Cell_Count',\n",
    "        'Hemoglobin_status',\n",
    "        'Neutrophil_count_status'\n",
    "]]\n",
    "\n",
    "post_op_dat = mydata[['fStage_grp',\n",
    "                'Location',\n",
    "                'LN_Dissection',\n",
    "                'Operation',\n",
    "                'Intraop_cc',\n",
    "                'OP_time',\n",
    "                'EBL'\n",
    "                ]]"
   ]
  },
  {
   "cell_type": "code",
   "execution_count": 6,
   "id": "8ed46f3c",
   "metadata": {},
   "outputs": [],
   "source": [
    "nsubject = mydata.shape[0]"
   ]
  },
  {
   "cell_type": "code",
   "execution_count": 7,
   "id": "5765c833",
   "metadata": {},
   "outputs": [],
   "source": [
    "contvar = ['Age', \"Platelets\", \"Albumin\", \"Cell_Count\"]\n",
    "catevar= pre_op_dat.columns[[x not in contvar for x in pre_op_dat.columns]]\n",
    "\n",
    "contvar_post = ['OP_time', 'EBL']\n",
    "catevar_post = post_op_dat.columns[[x not in contvar_post for x in post_op_dat.columns]]"
   ]
  },
  {
   "cell_type": "code",
   "execution_count": 8,
   "id": "658385c7",
   "metadata": {},
   "outputs": [
    {
     "name": "stdout",
     "output_type": "stream",
     "text": [
      "Sex                        category\n",
      "Age                           int64\n",
      "ASA_Score                  category\n",
      "Smoking                    category\n",
      "Drinking                   category\n",
      "BMI                        category\n",
      "Hypertension               category\n",
      "Diabetes                   category\n",
      "Ass_condition_grp          category\n",
      "Ass_lesion                 category\n",
      "Clinical_Stage_grp         category\n",
      "Histology                  category\n",
      "Lauren                     category\n",
      "Reconstruction             category\n",
      "Combined_Resection         category\n",
      "Platelets                     int64\n",
      "Albumin                     float64\n",
      "Cell_Count                  float64\n",
      "Hemoglobin_status          category\n",
      "Neutrophil_count_status    category\n",
      "dtype: object fStage_grp       category\n",
      "Location         category\n",
      "LN_Dissection    category\n",
      "Operation        category\n",
      "Intraop_cc       category\n",
      "OP_time             int64\n",
      "EBL               float64\n",
      "dtype: object\n"
     ]
    }
   ],
   "source": [
    "pre_op_dat2 = pre_op_dat.copy()\n",
    "pre_op_dat2[catevar] = pre_op_dat2[catevar].astype(\"category\")\n",
    "\n",
    "post_op_dat2 = post_op_dat.copy()\n",
    "post_op_dat2[catevar_post] = post_op_dat2[catevar_post].astype(\"category\")\n",
    "\n",
    "print(pre_op_dat2.dtypes, post_op_dat2.dtypes)"
   ]
  },
  {
   "cell_type": "code",
   "execution_count": 9,
   "id": "d6fcb20d",
   "metadata": {},
   "outputs": [],
   "source": [
    "pre_op_dat3 = pd.get_dummies(pre_op_dat2, columns=catevar)\n",
    "pre_dat = pre_op_dat3.to_numpy()\n",
    "\n",
    "post_op_dat3 = pd.get_dummies(post_op_dat2, columns=catevar_post)"
   ]
  },
  {
   "cell_type": "code",
   "execution_count": 10,
   "id": "591bf8ef",
   "metadata": {},
   "outputs": [
    {
     "data": {
      "text/plain": [
       "(521, 45)"
      ]
     },
     "execution_count": 10,
     "metadata": {},
     "output_type": "execute_result"
    }
   ],
   "source": [
    "pre_op_dat3.shape"
   ]
  },
  {
   "cell_type": "code",
   "execution_count": 11,
   "id": "20935813",
   "metadata": {},
   "outputs": [
    {
     "data": {
      "text/html": [
       "<div>\n",
       "<style scoped>\n",
       "    .dataframe tbody tr th:only-of-type {\n",
       "        vertical-align: middle;\n",
       "    }\n",
       "\n",
       "    .dataframe tbody tr th {\n",
       "        vertical-align: top;\n",
       "    }\n",
       "\n",
       "    .dataframe thead th {\n",
       "        text-align: right;\n",
       "    }\n",
       "</style>\n",
       "<table border=\"1\" class=\"dataframe\">\n",
       "  <thead>\n",
       "    <tr style=\"text-align: right;\">\n",
       "      <th></th>\n",
       "      <th>Age</th>\n",
       "      <th>Platelets</th>\n",
       "      <th>Albumin</th>\n",
       "      <th>Cell_Count</th>\n",
       "      <th>Sex_F</th>\n",
       "      <th>Sex_M</th>\n",
       "      <th>ASA_Score_1</th>\n",
       "      <th>ASA_Score_2</th>\n",
       "      <th>Smoking_no</th>\n",
       "      <th>Smoking_yes</th>\n",
       "      <th>...</th>\n",
       "      <th>Reconstruction_1 BI</th>\n",
       "      <th>Reconstruction_2 BII</th>\n",
       "      <th>Reconstruction_3 Roux-en-Y</th>\n",
       "      <th>Reconstruction_4 Others</th>\n",
       "      <th>Combined_Resection_No</th>\n",
       "      <th>Combined_Resection_Yes</th>\n",
       "      <th>Hemoglobin_status_1. Normal</th>\n",
       "      <th>Hemoglobin_status_2. Abnormal</th>\n",
       "      <th>Neutrophil_count_status_1. Normal</th>\n",
       "      <th>Neutrophil_count_status_2. Abnormal</th>\n",
       "    </tr>\n",
       "  </thead>\n",
       "  <tbody>\n",
       "    <tr>\n",
       "      <th>16</th>\n",
       "      <td>76</td>\n",
       "      <td>187</td>\n",
       "      <td>4.5</td>\n",
       "      <td>166.940</td>\n",
       "      <td>0</td>\n",
       "      <td>1</td>\n",
       "      <td>1</td>\n",
       "      <td>0</td>\n",
       "      <td>1</td>\n",
       "      <td>0</td>\n",
       "      <td>...</td>\n",
       "      <td>0</td>\n",
       "      <td>0</td>\n",
       "      <td>0</td>\n",
       "      <td>1</td>\n",
       "      <td>1</td>\n",
       "      <td>0</td>\n",
       "      <td>1</td>\n",
       "      <td>0</td>\n",
       "      <td>1</td>\n",
       "      <td>0</td>\n",
       "    </tr>\n",
       "    <tr>\n",
       "      <th>21</th>\n",
       "      <td>80</td>\n",
       "      <td>299</td>\n",
       "      <td>3.8</td>\n",
       "      <td>237.958</td>\n",
       "      <td>1</td>\n",
       "      <td>0</td>\n",
       "      <td>1</td>\n",
       "      <td>0</td>\n",
       "      <td>1</td>\n",
       "      <td>0</td>\n",
       "      <td>...</td>\n",
       "      <td>0</td>\n",
       "      <td>0</td>\n",
       "      <td>1</td>\n",
       "      <td>0</td>\n",
       "      <td>1</td>\n",
       "      <td>0</td>\n",
       "      <td>1</td>\n",
       "      <td>0</td>\n",
       "      <td>1</td>\n",
       "      <td>0</td>\n",
       "    </tr>\n",
       "    <tr>\n",
       "      <th>42</th>\n",
       "      <td>76</td>\n",
       "      <td>197</td>\n",
       "      <td>3.8</td>\n",
       "      <td>165.851</td>\n",
       "      <td>0</td>\n",
       "      <td>1</td>\n",
       "      <td>1</td>\n",
       "      <td>0</td>\n",
       "      <td>1</td>\n",
       "      <td>0</td>\n",
       "      <td>...</td>\n",
       "      <td>0</td>\n",
       "      <td>1</td>\n",
       "      <td>0</td>\n",
       "      <td>0</td>\n",
       "      <td>1</td>\n",
       "      <td>0</td>\n",
       "      <td>1</td>\n",
       "      <td>0</td>\n",
       "      <td>1</td>\n",
       "      <td>0</td>\n",
       "    </tr>\n",
       "    <tr>\n",
       "      <th>56</th>\n",
       "      <td>75</td>\n",
       "      <td>223</td>\n",
       "      <td>4.8</td>\n",
       "      <td>105.984</td>\n",
       "      <td>1</td>\n",
       "      <td>0</td>\n",
       "      <td>1</td>\n",
       "      <td>0</td>\n",
       "      <td>1</td>\n",
       "      <td>0</td>\n",
       "      <td>...</td>\n",
       "      <td>0</td>\n",
       "      <td>0</td>\n",
       "      <td>0</td>\n",
       "      <td>1</td>\n",
       "      <td>1</td>\n",
       "      <td>0</td>\n",
       "      <td>1</td>\n",
       "      <td>0</td>\n",
       "      <td>1</td>\n",
       "      <td>0</td>\n",
       "    </tr>\n",
       "    <tr>\n",
       "      <th>58</th>\n",
       "      <td>79</td>\n",
       "      <td>241</td>\n",
       "      <td>4.8</td>\n",
       "      <td>292.024</td>\n",
       "      <td>0</td>\n",
       "      <td>1</td>\n",
       "      <td>1</td>\n",
       "      <td>0</td>\n",
       "      <td>0</td>\n",
       "      <td>1</td>\n",
       "      <td>...</td>\n",
       "      <td>1</td>\n",
       "      <td>0</td>\n",
       "      <td>0</td>\n",
       "      <td>0</td>\n",
       "      <td>1</td>\n",
       "      <td>0</td>\n",
       "      <td>1</td>\n",
       "      <td>0</td>\n",
       "      <td>1</td>\n",
       "      <td>0</td>\n",
       "    </tr>\n",
       "    <tr>\n",
       "      <th>...</th>\n",
       "      <td>...</td>\n",
       "      <td>...</td>\n",
       "      <td>...</td>\n",
       "      <td>...</td>\n",
       "      <td>...</td>\n",
       "      <td>...</td>\n",
       "      <td>...</td>\n",
       "      <td>...</td>\n",
       "      <td>...</td>\n",
       "      <td>...</td>\n",
       "      <td>...</td>\n",
       "      <td>...</td>\n",
       "      <td>...</td>\n",
       "      <td>...</td>\n",
       "      <td>...</td>\n",
       "      <td>...</td>\n",
       "      <td>...</td>\n",
       "      <td>...</td>\n",
       "      <td>...</td>\n",
       "      <td>...</td>\n",
       "      <td>...</td>\n",
       "    </tr>\n",
       "    <tr>\n",
       "      <th>3500</th>\n",
       "      <td>77</td>\n",
       "      <td>180</td>\n",
       "      <td>4.3</td>\n",
       "      <td>130.277</td>\n",
       "      <td>0</td>\n",
       "      <td>1</td>\n",
       "      <td>1</td>\n",
       "      <td>0</td>\n",
       "      <td>1</td>\n",
       "      <td>0</td>\n",
       "      <td>...</td>\n",
       "      <td>0</td>\n",
       "      <td>1</td>\n",
       "      <td>0</td>\n",
       "      <td>0</td>\n",
       "      <td>1</td>\n",
       "      <td>0</td>\n",
       "      <td>1</td>\n",
       "      <td>0</td>\n",
       "      <td>1</td>\n",
       "      <td>0</td>\n",
       "    </tr>\n",
       "    <tr>\n",
       "      <th>3508</th>\n",
       "      <td>82</td>\n",
       "      <td>234</td>\n",
       "      <td>4.3</td>\n",
       "      <td>179.278</td>\n",
       "      <td>1</td>\n",
       "      <td>0</td>\n",
       "      <td>1</td>\n",
       "      <td>0</td>\n",
       "      <td>1</td>\n",
       "      <td>0</td>\n",
       "      <td>...</td>\n",
       "      <td>0</td>\n",
       "      <td>1</td>\n",
       "      <td>0</td>\n",
       "      <td>0</td>\n",
       "      <td>1</td>\n",
       "      <td>0</td>\n",
       "      <td>1</td>\n",
       "      <td>0</td>\n",
       "      <td>1</td>\n",
       "      <td>0</td>\n",
       "    </tr>\n",
       "    <tr>\n",
       "      <th>3523</th>\n",
       "      <td>78</td>\n",
       "      <td>128</td>\n",
       "      <td>4.3</td>\n",
       "      <td>167.862</td>\n",
       "      <td>0</td>\n",
       "      <td>1</td>\n",
       "      <td>0</td>\n",
       "      <td>1</td>\n",
       "      <td>1</td>\n",
       "      <td>0</td>\n",
       "      <td>...</td>\n",
       "      <td>1</td>\n",
       "      <td>0</td>\n",
       "      <td>0</td>\n",
       "      <td>0</td>\n",
       "      <td>1</td>\n",
       "      <td>0</td>\n",
       "      <td>1</td>\n",
       "      <td>0</td>\n",
       "      <td>1</td>\n",
       "      <td>0</td>\n",
       "    </tr>\n",
       "    <tr>\n",
       "      <th>3525</th>\n",
       "      <td>77</td>\n",
       "      <td>188</td>\n",
       "      <td>4.3</td>\n",
       "      <td>120.124</td>\n",
       "      <td>0</td>\n",
       "      <td>1</td>\n",
       "      <td>0</td>\n",
       "      <td>1</td>\n",
       "      <td>1</td>\n",
       "      <td>0</td>\n",
       "      <td>...</td>\n",
       "      <td>0</td>\n",
       "      <td>1</td>\n",
       "      <td>0</td>\n",
       "      <td>0</td>\n",
       "      <td>1</td>\n",
       "      <td>0</td>\n",
       "      <td>0</td>\n",
       "      <td>1</td>\n",
       "      <td>1</td>\n",
       "      <td>0</td>\n",
       "    </tr>\n",
       "    <tr>\n",
       "      <th>3540</th>\n",
       "      <td>78</td>\n",
       "      <td>284</td>\n",
       "      <td>4.3</td>\n",
       "      <td>215.441</td>\n",
       "      <td>1</td>\n",
       "      <td>0</td>\n",
       "      <td>1</td>\n",
       "      <td>0</td>\n",
       "      <td>1</td>\n",
       "      <td>0</td>\n",
       "      <td>...</td>\n",
       "      <td>0</td>\n",
       "      <td>0</td>\n",
       "      <td>1</td>\n",
       "      <td>0</td>\n",
       "      <td>1</td>\n",
       "      <td>0</td>\n",
       "      <td>1</td>\n",
       "      <td>0</td>\n",
       "      <td>1</td>\n",
       "      <td>0</td>\n",
       "    </tr>\n",
       "  </tbody>\n",
       "</table>\n",
       "<p>521 rows × 45 columns</p>\n",
       "</div>"
      ],
      "text/plain": [
       "      Age  Platelets  Albumin  Cell_Count  Sex_F  Sex_M  ASA_Score_1  \\\n",
       "16     76        187      4.5     166.940      0      1            1   \n",
       "21     80        299      3.8     237.958      1      0            1   \n",
       "42     76        197      3.8     165.851      0      1            1   \n",
       "56     75        223      4.8     105.984      1      0            1   \n",
       "58     79        241      4.8     292.024      0      1            1   \n",
       "...   ...        ...      ...         ...    ...    ...          ...   \n",
       "3500   77        180      4.3     130.277      0      1            1   \n",
       "3508   82        234      4.3     179.278      1      0            1   \n",
       "3523   78        128      4.3     167.862      0      1            0   \n",
       "3525   77        188      4.3     120.124      0      1            0   \n",
       "3540   78        284      4.3     215.441      1      0            1   \n",
       "\n",
       "      ASA_Score_2  Smoking_no  Smoking_yes  ...  Reconstruction_1 BI  \\\n",
       "16              0           1            0  ...                    0   \n",
       "21              0           1            0  ...                    0   \n",
       "42              0           1            0  ...                    0   \n",
       "56              0           1            0  ...                    0   \n",
       "58              0           0            1  ...                    1   \n",
       "...           ...         ...          ...  ...                  ...   \n",
       "3500            0           1            0  ...                    0   \n",
       "3508            0           1            0  ...                    0   \n",
       "3523            1           1            0  ...                    1   \n",
       "3525            1           1            0  ...                    0   \n",
       "3540            0           1            0  ...                    0   \n",
       "\n",
       "      Reconstruction_2 BII  Reconstruction_3 Roux-en-Y  \\\n",
       "16                       0                           0   \n",
       "21                       0                           1   \n",
       "42                       1                           0   \n",
       "56                       0                           0   \n",
       "58                       0                           0   \n",
       "...                    ...                         ...   \n",
       "3500                     1                           0   \n",
       "3508                     1                           0   \n",
       "3523                     0                           0   \n",
       "3525                     1                           0   \n",
       "3540                     0                           1   \n",
       "\n",
       "      Reconstruction_4 Others  Combined_Resection_No  Combined_Resection_Yes  \\\n",
       "16                          1                      1                       0   \n",
       "21                          0                      1                       0   \n",
       "42                          0                      1                       0   \n",
       "56                          1                      1                       0   \n",
       "58                          0                      1                       0   \n",
       "...                       ...                    ...                     ...   \n",
       "3500                        0                      1                       0   \n",
       "3508                        0                      1                       0   \n",
       "3523                        0                      1                       0   \n",
       "3525                        0                      1                       0   \n",
       "3540                        0                      1                       0   \n",
       "\n",
       "      Hemoglobin_status_1. Normal  Hemoglobin_status_2. Abnormal  \\\n",
       "16                              1                              0   \n",
       "21                              1                              0   \n",
       "42                              1                              0   \n",
       "56                              1                              0   \n",
       "58                              1                              0   \n",
       "...                           ...                            ...   \n",
       "3500                            1                              0   \n",
       "3508                            1                              0   \n",
       "3523                            1                              0   \n",
       "3525                            0                              1   \n",
       "3540                            1                              0   \n",
       "\n",
       "      Neutrophil_count_status_1. Normal  Neutrophil_count_status_2. Abnormal  \n",
       "16                                    1                                    0  \n",
       "21                                    1                                    0  \n",
       "42                                    1                                    0  \n",
       "56                                    1                                    0  \n",
       "58                                    1                                    0  \n",
       "...                                 ...                                  ...  \n",
       "3500                                  1                                    0  \n",
       "3508                                  1                                    0  \n",
       "3523                                  1                                    0  \n",
       "3525                                  1                                    0  \n",
       "3540                                  1                                    0  \n",
       "\n",
       "[521 rows x 45 columns]"
      ]
     },
     "execution_count": 11,
     "metadata": {},
     "output_type": "execute_result"
    }
   ],
   "source": [
    "pre_op_dat3"
   ]
  },
  {
   "cell_type": "code",
   "execution_count": 12,
   "id": "33c44fa8",
   "metadata": {},
   "outputs": [
    {
     "data": {
      "text/plain": [
       "Age                                                     0\n",
       "Platelets                                               0\n",
       "Albumin                                                 0\n",
       "Cell_Count                                              0\n",
       "Sex_F                                                   0\n",
       "Sex_M                                                   0\n",
       "ASA_Score_1                                             0\n",
       "ASA_Score_2                                             0\n",
       "Smoking_no                                              0\n",
       "Smoking_yes                                             0\n",
       "Drinking_no                                             0\n",
       "Drinking_yes                                            0\n",
       "BMI_1 <18.5                                             0\n",
       "BMI_2 18.5-24.9                                         0\n",
       "BMI_3 >25                                               0\n",
       "Hypertension_no                                         0\n",
       "Hypertension_yes                                        0\n",
       "Diabetes_no                                             0\n",
       "Diabetes_yes                                            0\n",
       "Ass_condition_grp_0                                     0\n",
       "Ass_condition_grp_1                                     0\n",
       "Ass_condition_grp_2                                     0\n",
       "Ass_condition_grp_3+                                    0\n",
       "Ass_lesion_no                                           0\n",
       "Ass_lesion_yes                                          0\n",
       "Clinical_Stage_grp _1.0                                 0\n",
       "Clinical_Stage_grp _2.0                                 0\n",
       "Histology_01. Well/Moderately differentiated            0\n",
       "Histology_02. Poorly differentiated/Signet ring cell    0\n",
       "Histology_03. Others                                    0\n",
       "Lauren_1. Intestinal                                    0\n",
       "Lauren_2. Diffuse                                       0\n",
       "Lauren_3. Mixed                                         0\n",
       "Lauren_4. Indeterminate                                 0\n",
       "Lauren_5. Unknown                                       0\n",
       "Reconstruction_1 BI                                     0\n",
       "Reconstruction_2 BII                                    0\n",
       "Reconstruction_3 Roux-en-Y                              0\n",
       "Reconstruction_4 Others                                 0\n",
       "Combined_Resection_No                                   0\n",
       "Combined_Resection_Yes                                  0\n",
       "Hemoglobin_status_1. Normal                             0\n",
       "Hemoglobin_status_2. Abnormal                           0\n",
       "Neutrophil_count_status_1. Normal                       0\n",
       "Neutrophil_count_status_2. Abnormal                     0\n",
       "dtype: int64"
      ]
     },
     "execution_count": 12,
     "metadata": {},
     "output_type": "execute_result"
    }
   ],
   "source": [
    "pre_op_dat3.isnull().sum()"
   ]
  },
  {
   "cell_type": "code",
   "execution_count": 13,
   "id": "e43eebf0",
   "metadata": {},
   "outputs": [
    {
     "data": {
      "text/plain": [
       "OP_time                          0\n",
       "EBL                              0\n",
       "fStage_grp_1.0                   0\n",
       "fStage_grp_2.0                   0\n",
       "Location_1 Lower                 0\n",
       "Location_2 Middle                0\n",
       "Location_3 Upper                 0\n",
       "Location_4 Others                0\n",
       "LN_Dissection_1. D1              0\n",
       "LN_Dissection_2. D2              0\n",
       "Operation_Partial Gastractomy    0\n",
       "Operation_Total Gastractomy      0\n",
       "Intraop_cc_No                    0\n",
       "Intraop_cc_Yes                   0\n",
       "dtype: int64"
      ]
     },
     "execution_count": 13,
     "metadata": {},
     "output_type": "execute_result"
    }
   ],
   "source": [
    "post_op_dat3.isnull().sum()"
   ]
  },
  {
   "cell_type": "code",
   "execution_count": 14,
   "id": "d7c1eff5",
   "metadata": {},
   "outputs": [
    {
     "data": {
      "text/html": [
       "<div>\n",
       "<style scoped>\n",
       "    .dataframe tbody tr th:only-of-type {\n",
       "        vertical-align: middle;\n",
       "    }\n",
       "\n",
       "    .dataframe tbody tr th {\n",
       "        vertical-align: top;\n",
       "    }\n",
       "\n",
       "    .dataframe thead th {\n",
       "        text-align: right;\n",
       "    }\n",
       "</style>\n",
       "<table border=\"1\" class=\"dataframe\">\n",
       "  <thead>\n",
       "    <tr style=\"text-align: right;\">\n",
       "      <th></th>\n",
       "      <th>OP_time</th>\n",
       "      <th>EBL</th>\n",
       "      <th>fStage_grp_1.0</th>\n",
       "      <th>fStage_grp_2.0</th>\n",
       "      <th>Location_1 Lower</th>\n",
       "      <th>Location_2 Middle</th>\n",
       "      <th>Location_3 Upper</th>\n",
       "      <th>Location_4 Others</th>\n",
       "      <th>LN_Dissection_1. D1</th>\n",
       "      <th>LN_Dissection_2. D2</th>\n",
       "      <th>Operation_Partial Gastractomy</th>\n",
       "      <th>Operation_Total Gastractomy</th>\n",
       "      <th>Intraop_cc_No</th>\n",
       "      <th>Intraop_cc_Yes</th>\n",
       "    </tr>\n",
       "  </thead>\n",
       "  <tbody>\n",
       "    <tr>\n",
       "      <th>16</th>\n",
       "      <td>160</td>\n",
       "      <td>100.0</td>\n",
       "      <td>1</td>\n",
       "      <td>0</td>\n",
       "      <td>0</td>\n",
       "      <td>0</td>\n",
       "      <td>1</td>\n",
       "      <td>0</td>\n",
       "      <td>1</td>\n",
       "      <td>0</td>\n",
       "      <td>1</td>\n",
       "      <td>0</td>\n",
       "      <td>1</td>\n",
       "      <td>0</td>\n",
       "    </tr>\n",
       "    <tr>\n",
       "      <th>21</th>\n",
       "      <td>145</td>\n",
       "      <td>50.0</td>\n",
       "      <td>1</td>\n",
       "      <td>0</td>\n",
       "      <td>0</td>\n",
       "      <td>0</td>\n",
       "      <td>1</td>\n",
       "      <td>0</td>\n",
       "      <td>0</td>\n",
       "      <td>1</td>\n",
       "      <td>0</td>\n",
       "      <td>1</td>\n",
       "      <td>1</td>\n",
       "      <td>0</td>\n",
       "    </tr>\n",
       "    <tr>\n",
       "      <th>42</th>\n",
       "      <td>210</td>\n",
       "      <td>0.0</td>\n",
       "      <td>1</td>\n",
       "      <td>0</td>\n",
       "      <td>1</td>\n",
       "      <td>0</td>\n",
       "      <td>0</td>\n",
       "      <td>0</td>\n",
       "      <td>0</td>\n",
       "      <td>1</td>\n",
       "      <td>1</td>\n",
       "      <td>0</td>\n",
       "      <td>1</td>\n",
       "      <td>0</td>\n",
       "    </tr>\n",
       "    <tr>\n",
       "      <th>56</th>\n",
       "      <td>145</td>\n",
       "      <td>200.0</td>\n",
       "      <td>1</td>\n",
       "      <td>0</td>\n",
       "      <td>0</td>\n",
       "      <td>1</td>\n",
       "      <td>0</td>\n",
       "      <td>0</td>\n",
       "      <td>1</td>\n",
       "      <td>0</td>\n",
       "      <td>1</td>\n",
       "      <td>0</td>\n",
       "      <td>1</td>\n",
       "      <td>0</td>\n",
       "    </tr>\n",
       "    <tr>\n",
       "      <th>58</th>\n",
       "      <td>130</td>\n",
       "      <td>0.0</td>\n",
       "      <td>0</td>\n",
       "      <td>1</td>\n",
       "      <td>0</td>\n",
       "      <td>1</td>\n",
       "      <td>0</td>\n",
       "      <td>0</td>\n",
       "      <td>0</td>\n",
       "      <td>1</td>\n",
       "      <td>1</td>\n",
       "      <td>0</td>\n",
       "      <td>1</td>\n",
       "      <td>0</td>\n",
       "    </tr>\n",
       "    <tr>\n",
       "      <th>...</th>\n",
       "      <td>...</td>\n",
       "      <td>...</td>\n",
       "      <td>...</td>\n",
       "      <td>...</td>\n",
       "      <td>...</td>\n",
       "      <td>...</td>\n",
       "      <td>...</td>\n",
       "      <td>...</td>\n",
       "      <td>...</td>\n",
       "      <td>...</td>\n",
       "      <td>...</td>\n",
       "      <td>...</td>\n",
       "      <td>...</td>\n",
       "      <td>...</td>\n",
       "    </tr>\n",
       "    <tr>\n",
       "      <th>3500</th>\n",
       "      <td>155</td>\n",
       "      <td>400.0</td>\n",
       "      <td>0</td>\n",
       "      <td>1</td>\n",
       "      <td>1</td>\n",
       "      <td>0</td>\n",
       "      <td>0</td>\n",
       "      <td>0</td>\n",
       "      <td>0</td>\n",
       "      <td>1</td>\n",
       "      <td>1</td>\n",
       "      <td>0</td>\n",
       "      <td>1</td>\n",
       "      <td>0</td>\n",
       "    </tr>\n",
       "    <tr>\n",
       "      <th>3508</th>\n",
       "      <td>155</td>\n",
       "      <td>5.0</td>\n",
       "      <td>1</td>\n",
       "      <td>0</td>\n",
       "      <td>1</td>\n",
       "      <td>0</td>\n",
       "      <td>0</td>\n",
       "      <td>0</td>\n",
       "      <td>0</td>\n",
       "      <td>1</td>\n",
       "      <td>1</td>\n",
       "      <td>0</td>\n",
       "      <td>1</td>\n",
       "      <td>0</td>\n",
       "    </tr>\n",
       "    <tr>\n",
       "      <th>3523</th>\n",
       "      <td>195</td>\n",
       "      <td>20.0</td>\n",
       "      <td>1</td>\n",
       "      <td>0</td>\n",
       "      <td>1</td>\n",
       "      <td>0</td>\n",
       "      <td>0</td>\n",
       "      <td>0</td>\n",
       "      <td>1</td>\n",
       "      <td>0</td>\n",
       "      <td>1</td>\n",
       "      <td>0</td>\n",
       "      <td>1</td>\n",
       "      <td>0</td>\n",
       "    </tr>\n",
       "    <tr>\n",
       "      <th>3525</th>\n",
       "      <td>140</td>\n",
       "      <td>50.0</td>\n",
       "      <td>1</td>\n",
       "      <td>0</td>\n",
       "      <td>1</td>\n",
       "      <td>0</td>\n",
       "      <td>0</td>\n",
       "      <td>0</td>\n",
       "      <td>1</td>\n",
       "      <td>0</td>\n",
       "      <td>1</td>\n",
       "      <td>0</td>\n",
       "      <td>1</td>\n",
       "      <td>0</td>\n",
       "    </tr>\n",
       "    <tr>\n",
       "      <th>3540</th>\n",
       "      <td>215</td>\n",
       "      <td>0.0</td>\n",
       "      <td>1</td>\n",
       "      <td>0</td>\n",
       "      <td>0</td>\n",
       "      <td>0</td>\n",
       "      <td>1</td>\n",
       "      <td>0</td>\n",
       "      <td>1</td>\n",
       "      <td>0</td>\n",
       "      <td>0</td>\n",
       "      <td>1</td>\n",
       "      <td>1</td>\n",
       "      <td>0</td>\n",
       "    </tr>\n",
       "  </tbody>\n",
       "</table>\n",
       "<p>521 rows × 14 columns</p>\n",
       "</div>"
      ],
      "text/plain": [
       "      OP_time    EBL  fStage_grp_1.0  fStage_grp_2.0  Location_1 Lower  \\\n",
       "16        160  100.0               1               0                 0   \n",
       "21        145   50.0               1               0                 0   \n",
       "42        210    0.0               1               0                 1   \n",
       "56        145  200.0               1               0                 0   \n",
       "58        130    0.0               0               1                 0   \n",
       "...       ...    ...             ...             ...               ...   \n",
       "3500      155  400.0               0               1                 1   \n",
       "3508      155    5.0               1               0                 1   \n",
       "3523      195   20.0               1               0                 1   \n",
       "3525      140   50.0               1               0                 1   \n",
       "3540      215    0.0               1               0                 0   \n",
       "\n",
       "      Location_2 Middle  Location_3 Upper  Location_4 Others  \\\n",
       "16                    0                 1                  0   \n",
       "21                    0                 1                  0   \n",
       "42                    0                 0                  0   \n",
       "56                    1                 0                  0   \n",
       "58                    1                 0                  0   \n",
       "...                 ...               ...                ...   \n",
       "3500                  0                 0                  0   \n",
       "3508                  0                 0                  0   \n",
       "3523                  0                 0                  0   \n",
       "3525                  0                 0                  0   \n",
       "3540                  0                 1                  0   \n",
       "\n",
       "      LN_Dissection_1. D1  LN_Dissection_2. D2  Operation_Partial Gastractomy  \\\n",
       "16                      1                    0                              1   \n",
       "21                      0                    1                              0   \n",
       "42                      0                    1                              1   \n",
       "56                      1                    0                              1   \n",
       "58                      0                    1                              1   \n",
       "...                   ...                  ...                            ...   \n",
       "3500                    0                    1                              1   \n",
       "3508                    0                    1                              1   \n",
       "3523                    1                    0                              1   \n",
       "3525                    1                    0                              1   \n",
       "3540                    1                    0                              0   \n",
       "\n",
       "      Operation_Total Gastractomy  Intraop_cc_No  Intraop_cc_Yes  \n",
       "16                              0              1               0  \n",
       "21                              1              1               0  \n",
       "42                              0              1               0  \n",
       "56                              0              1               0  \n",
       "58                              0              1               0  \n",
       "...                           ...            ...             ...  \n",
       "3500                            0              1               0  \n",
       "3508                            0              1               0  \n",
       "3523                            0              1               0  \n",
       "3525                            0              1               0  \n",
       "3540                            1              1               0  \n",
       "\n",
       "[521 rows x 14 columns]"
      ]
     },
     "execution_count": 14,
     "metadata": {},
     "output_type": "execute_result"
    }
   ],
   "source": [
    "post_op_dat3"
   ]
  },
  {
   "cell_type": "code",
   "execution_count": 15,
   "id": "54cf0574",
   "metadata": {},
   "outputs": [],
   "source": [
    "#missing_col = ['Z_EBL']\n",
    "#Technique 1: Using mean to impute the missing values\n",
    "#for i in missing_col:\n",
    "#    post_op_dat3.loc[post_op_dat3.loc[:,i].isnull(),i]=0"
   ]
  },
  {
   "cell_type": "code",
   "execution_count": 16,
   "id": "34a98b55",
   "metadata": {},
   "outputs": [],
   "source": [
    "post_dat = post_op_dat3.to_numpy()"
   ]
  },
  {
   "cell_type": "code",
   "execution_count": 17,
   "id": "976037de",
   "metadata": {},
   "outputs": [
    {
     "name": "stdout",
     "output_type": "stream",
     "text": [
      "(521, 45) (521, 14) (521, 59)\n"
     ]
    }
   ],
   "source": [
    "total_dat = np.concatenate([pre_dat, post_dat], 1)\n",
    "print(pre_dat.shape, post_dat.shape, total_dat.shape)"
   ]
  },
  {
   "cell_type": "code",
   "execution_count": 18,
   "id": "2d1c604d",
   "metadata": {},
   "outputs": [],
   "source": [
    "OP_year = mydata['OP_year']\n",
    "testindex = np.isin(OP_year, [2020, 2021])\n",
    "#testindex = np.isin(OP_year, [2015, 2017, 2019, 2021])"
   ]
  },
  {
   "cell_type": "code",
   "execution_count": 19,
   "id": "7826bf35",
   "metadata": {},
   "outputs": [
    {
     "data": {
      "text/plain": [
       "(521, 381, 140)"
      ]
     },
     "execution_count": 19,
     "metadata": {},
     "output_type": "execute_result"
    }
   ],
   "source": [
    "total_train = total_dat[np.invert(testindex)].copy()\n",
    "event_train = event_data.values[np.invert(testindex)].copy()\n",
    "\n",
    "total_test = total_dat[testindex].copy()\n",
    "event_test = event_data.values[testindex].copy()\n",
    "\n",
    "ntrain = total_train.shape[0]\n",
    "nsubject, ntrain, nsubject-ntrain"
   ]
  },
  {
   "cell_type": "code",
   "execution_count": 20,
   "id": "2344c7e2",
   "metadata": {},
   "outputs": [],
   "source": [
    "cont_index = [1, 2, 3, 49, 50]"
   ]
  },
  {
   "cell_type": "code",
   "execution_count": 21,
   "id": "aa1b7ea9",
   "metadata": {},
   "outputs": [
    {
     "data": {
      "text/plain": [
       "array([[187.   ,   4.5  , 166.94 ,   0.   ,   0.   ],\n",
       "       [299.   ,   3.8  , 237.958,   0.   ,   0.   ],\n",
       "       [197.   ,   3.8  , 165.851,   1.   ,   0.   ],\n",
       "       ...,\n",
       "       [128.   ,   4.3  , 167.862,   1.   ,   0.   ],\n",
       "       [188.   ,   4.3  , 120.124,   1.   ,   0.   ],\n",
       "       [284.   ,   4.3  , 215.441,   0.   ,   0.   ]])"
      ]
     },
     "execution_count": 21,
     "metadata": {},
     "output_type": "execute_result"
    }
   ],
   "source": [
    "total_dat[:, cont_index]"
   ]
  },
  {
   "cell_type": "code",
   "execution_count": 22,
   "id": "1d275247",
   "metadata": {},
   "outputs": [],
   "source": [
    "train_max = total_train[:, cont_index].max(0, keepdims=True)"
   ]
  },
  {
   "cell_type": "code",
   "execution_count": 23,
   "id": "fe939362",
   "metadata": {},
   "outputs": [
    {
     "data": {
      "text/plain": [
       "array([[814.  ,   5.3 , 486.04,   1.  ,   1.  ]])"
      ]
     },
     "execution_count": 23,
     "metadata": {},
     "output_type": "execute_result"
    }
   ],
   "source": [
    "train_max"
   ]
  },
  {
   "cell_type": "code",
   "execution_count": 24,
   "id": "4478ad38",
   "metadata": {},
   "outputs": [],
   "source": [
    "total_train[:, cont_index] = total_train[:, cont_index]/train_max"
   ]
  },
  {
   "cell_type": "code",
   "execution_count": 25,
   "id": "31955ad4",
   "metadata": {},
   "outputs": [
    {
     "data": {
      "text/plain": [
       "array([[453.  ,   4.7 , 449.92,   1.  ,   1.  ]])"
      ]
     },
     "execution_count": 25,
     "metadata": {},
     "output_type": "execute_result"
    }
   ],
   "source": [
    "test_max = total_test[:, cont_index].max(0, keepdims=True)\n",
    "test_max"
   ]
  },
  {
   "cell_type": "code",
   "execution_count": 26,
   "id": "433dbae8",
   "metadata": {},
   "outputs": [],
   "source": [
    "total_test[:, cont_index] = total_test[:, cont_index]/test_max"
   ]
  },
  {
   "cell_type": "code",
   "execution_count": 27,
   "id": "38fb0a49",
   "metadata": {},
   "outputs": [
    {
     "data": {
      "text/plain": [
       "array([0, 0, 0, 0, 0, 0, 0, 0, 0, 0, 0, 0, 0, 0, 0, 0, 0, 1, 0, 0, 0, 1,\n",
       "       0, 0, 0, 0, 0, 0, 0, 0, 0, 0, 0, 0, 0, 0, 0, 0, 0, 0, 0, 0, 0, 0,\n",
       "       0, 0, 0, 0, 0, 0, 0, 0, 0, 0, 0, 0, 0, 0, 0, 0, 0, 0, 1, 0, 0, 0,\n",
       "       0, 0, 0, 0, 0, 0, 0, 0, 0, 0, 0, 0, 0, 0, 0, 0, 0, 0, 0, 0, 0, 0,\n",
       "       0, 0, 0, 0, 0, 0, 0, 0, 0, 0, 0, 0, 0, 0, 0, 0, 0, 0, 0, 0, 0, 0,\n",
       "       0, 0, 0, 0, 0, 0, 0, 0, 0, 0, 0, 0, 0, 0, 0, 0, 0, 0, 0, 0, 0, 0,\n",
       "       0, 0, 0, 0, 0, 0, 0, 0, 0, 0, 0, 0, 0, 0, 0, 0, 0, 0, 0, 0, 0, 0,\n",
       "       0, 0, 0, 0, 0, 0, 0, 0, 0, 0, 0, 0, 0, 0, 0, 0, 0, 0, 0, 0, 0, 0,\n",
       "       0, 0, 0, 0, 0, 1, 0, 0, 0, 0, 0, 0, 0, 0, 0, 0, 0, 0, 0, 0, 0, 0,\n",
       "       0, 0, 0, 0, 0, 0, 0, 0, 0, 0, 0, 0, 0, 1, 0, 0, 0, 0, 0, 0, 0, 0,\n",
       "       0, 0, 0, 0, 0, 0, 0, 1, 0, 0, 1, 0, 0, 0, 1, 0, 0, 0, 0, 0, 0, 0,\n",
       "       0, 0, 0, 0, 0, 0, 0, 0, 0, 0, 0, 0, 0, 0, 0, 0, 0, 0, 0, 0, 0, 0,\n",
       "       1, 0, 0, 0, 0, 0, 0, 0, 0, 0, 0, 0, 0, 0, 0, 0, 0, 0, 0, 0, 0, 0,\n",
       "       0, 0, 0, 0, 0, 0, 0, 0, 1, 0, 1, 1, 0, 0, 1, 0, 0, 0, 1, 0, 1, 0,\n",
       "       0, 0, 0, 0, 0, 0, 0, 0, 0, 0, 0, 0, 0, 0, 0, 0, 0, 0, 0, 0, 0, 0,\n",
       "       1, 0, 0, 0, 0, 0, 0, 0, 0, 0, 0, 0, 0, 0, 0, 0, 0, 1, 0, 1, 0, 1,\n",
       "       1, 0, 0, 0, 0, 0, 0, 0, 0, 0, 0, 0, 0, 0, 0, 0, 0, 0, 0, 0, 0, 0,\n",
       "       0, 0, 1, 0, 0, 0, 0], dtype=int64)"
      ]
     },
     "execution_count": 27,
     "metadata": {},
     "output_type": "execute_result"
    }
   ],
   "source": [
    "event_train"
   ]
  },
  {
   "cell_type": "code",
   "execution_count": 28,
   "id": "e0b39b60",
   "metadata": {},
   "outputs": [
    {
     "data": {
      "text/plain": [
       "<torch.utils.data.dataloader.DataLoader at 0x24cffd44430>"
      ]
     },
     "execution_count": 28,
     "metadata": {},
     "output_type": "execute_result"
    }
   ],
   "source": [
    "num_event = 1\n",
    "batch_size = 256\n",
    "hidden_size = 256\n",
    "\n",
    "train_data = []\n",
    "for i in range(ntrain):\n",
    "    train_data.append([total_train[i], event_train[i]])\n",
    "train_loader = torch.utils.data.DataLoader(train_data, batch_size=batch_size, shuffle=True, pin_memory=True)\n",
    "train_loader"
   ]
  },
  {
   "cell_type": "code",
   "execution_count": 29,
   "id": "da314277",
   "metadata": {},
   "outputs": [],
   "source": [
    "cuda = torch.cuda.is_available() # False\n",
    "if cuda:\n",
    "    device = 'cuda:0'\n",
    "else:\n",
    "    device = 'cpu'"
   ]
  },
  {
   "cell_type": "code",
   "execution_count": 30,
   "id": "800c7a2a",
   "metadata": {},
   "outputs": [],
   "source": [
    "class MLP(nn.Module):\n",
    "    \n",
    "    def __init__(self, input_size, hidden_size=128, num_layer=1, num_event=1):\n",
    "        super(MLP, self).__init__()\n",
    "        \n",
    "        self.input_size = input_size\n",
    "        self.hidden_size = hidden_size\n",
    "        self.num_layer = num_layer\n",
    "        self.num_event = num_event\n",
    "        \n",
    "        self.hidden_in = nn.Linear(self.input_size, self.hidden_size)\n",
    "        hiddens = [\n",
    "            nn.Linear(self.hidden_size, self.hidden_size),\n",
    "            nn.LeakyReLU(inplace=True),\n",
    "        ]\n",
    "        self.hiddens = nn.Sequential(*((num_layer-1)*hiddens))\n",
    "        self.hidden_out = nn.Linear(self.hidden_size, 1)\n",
    "        self.activation = nn.LeakyReLU(inplace=True)\n",
    "                \n",
    "    def forward(self, x):\n",
    "        ## x: (batch, input_size)\n",
    "\n",
    "        batch_size = x.shape[0]\n",
    "        x = self.hidden_in(x)\n",
    "        x = self.hiddens(self.activation(x))\n",
    "        x = self.hidden_out(x)\n",
    "        \n",
    "        return x"
   ]
  },
  {
   "cell_type": "code",
   "execution_count": 31,
   "id": "08b66519",
   "metadata": {},
   "outputs": [
    {
     "data": {
      "text/plain": [
       "MLP(\n",
       "  (hidden_in): Linear(in_features=41, out_features=128, bias=True)\n",
       "  (hiddens): Sequential(\n",
       "    (0): Linear(in_features=128, out_features=128, bias=True)\n",
       "    (1): LeakyReLU(negative_slope=0.01, inplace=True)\n",
       "  )\n",
       "  (hidden_out): Linear(in_features=128, out_features=1, bias=True)\n",
       "  (activation): LeakyReLU(negative_slope=0.01, inplace=True)\n",
       ")"
      ]
     },
     "execution_count": 31,
     "metadata": {},
     "output_type": "execute_result"
    }
   ],
   "source": [
    "model = MLP(input_size=41, hidden_size=128, num_layer=2, num_event=num_event).to(device)\n",
    "model"
   ]
  },
  {
   "cell_type": "code",
   "execution_count": 32,
   "id": "bcff8852",
   "metadata": {},
   "outputs": [
    {
     "name": "stderr",
     "output_type": "stream",
     "text": [
      "C:\\Users\\demel\\anaconda3\\envs\\pytorch\\lib\\site-packages\\adabound\\adabound.py:94: UserWarning: This overload of add_ is deprecated:\n",
      "\tadd_(Number alpha, Tensor other)\n",
      "Consider using one of the following signatures instead:\n",
      "\tadd_(Tensor other, *, Number alpha) (Triggered internally at  ..\\torch\\csrc\\utils\\python_arg_parser.cpp:1025.)\n",
      "  exp_avg.mul_(beta1).add_(1 - beta1, grad)\n"
     ]
    },
    {
     "name": "stdout",
     "output_type": "stream",
     "text": [
      "Epoch: 0, Loss: 1.5659e+00\n",
      "Epoch: 100, Loss: 2.2688e-01\n",
      "Epoch: 200, Loss: 1.9185e-01\n",
      "Epoch: 300, Loss: 2.2577e-01\n",
      "Epoch: 400, Loss: 2.2340e-01\n",
      "Epoch: 500, Loss: 2.2700e-01\n",
      "Epoch: 600, Loss: 2.3071e-01\n",
      "Epoch: 700, Loss: 2.1028e-01\n",
      "Epoch: 800, Loss: 1.9893e-01\n",
      "Epoch: 900, Loss: 2.1543e-01\n",
      "Epoch: 1000, Loss: 1.7815e-01\n",
      "Epoch: 1100, Loss: 2.0858e-01\n",
      "Epoch: 1200, Loss: 1.9007e-01\n",
      "Epoch: 1300, Loss: 1.8635e-01\n",
      "Epoch: 1400, Loss: 1.9096e-01\n",
      "Epoch: 1500, Loss: 1.8280e-01\n",
      "Epoch: 1600, Loss: 2.0028e-01\n",
      "Epoch: 1700, Loss: 1.9062e-01\n",
      "Epoch: 1800, Loss: 1.9913e-01\n",
      "Epoch: 1900, Loss: 2.1001e-01\n",
      "Epoch: 2000, Loss: 1.8398e-01\n",
      "Epoch: 2100, Loss: 1.9423e-01\n",
      "Epoch: 2200, Loss: 1.9363e-01\n",
      "Epoch: 2300, Loss: 1.9569e-01\n"
     ]
    },
    {
     "data": {
      "image/png": "[encoded data removed]",
      "text/plain": [
       "<Figure size 432x288 with 1 Axes>"
      ]
     },
     "metadata": {
      "needs_background": "light"
     },
     "output_type": "display_data"
    },
    {
     "name": "stdout",
     "output_type": "stream",
     "text": [
      "-------------------------------------------------------\n",
      "/75+_test2021_leakage/MultiMLP_16hiddensize_1layers_1e-03\n",
      "Train accuracy = 0.9449, Test accuracy = 0.9357\n",
      "Train AUC = 0.7442, Test AUC = 0.6081\n",
      "-------------------------------------------------------\n",
      "Epoch: 0, Loss: 4.0969e+00\n",
      "Epoch: 100, Loss: 2.0285e-01\n",
      "Epoch: 200, Loss: 2.1360e-01\n",
      "Epoch: 300, Loss: 1.6999e-01\n",
      "Epoch: 400, Loss: 2.0944e-01\n",
      "Epoch: 500, Loss: 2.3218e-01\n",
      "Epoch: 600, Loss: 1.9273e-01\n",
      "Epoch: 700, Loss: 2.1123e-01\n",
      "Epoch: 800, Loss: 2.0135e-01\n",
      "Epoch: 900, Loss: 1.8464e-01\n",
      "Epoch: 1000, Loss: 1.6989e-01\n",
      "Epoch: 1100, Loss: 2.0381e-01\n",
      "Epoch: 1200, Loss: 1.9206e-01\n",
      "Epoch: 1300, Loss: 1.7244e-01\n",
      "Epoch: 1400, Loss: 1.9409e-01\n",
      "Epoch: 1500, Loss: 1.9883e-01\n",
      "Epoch: 1600, Loss: 1.7599e-01\n",
      "Epoch: 1700, Loss: 2.3855e-01\n",
      "Epoch: 1800, Loss: 1.8022e-01\n",
      "Epoch: 1900, Loss: 1.7394e-01\n",
      "Epoch: 2000, Loss: 1.7206e-01\n",
      "Epoch: 2100, Loss: 1.7656e-01\n",
      "Epoch: 2200, Loss: 1.8744e-01\n",
      "Epoch: 2300, Loss: 2.0633e-01\n",
      "Epoch: 2400, Loss: 1.8414e-01\n",
      "Epoch: 2500, Loss: 1.7967e-01\n",
      "Epoch: 2600, Loss: 1.7708e-01\n",
      "Epoch: 2700, Loss: 1.8352e-01\n"
     ]
    },
    {
     "data": {
      "image/png": "[encoded data removed]",
      "text/plain": [
       "<Figure size 432x288 with 1 Axes>"
      ]
     },
     "metadata": {
      "needs_background": "light"
     },
     "output_type": "display_data"
    },
    {
     "name": "stdout",
     "output_type": "stream",
     "text": [
      "-------------------------------------------------------\n",
      "/75+_test2021_leakage/MultiMLP_16hiddensize_2layers_1e-03\n",
      "Train accuracy = 0.9449, Test accuracy = 0.9357\n",
      "Train AUC = 0.8050, Test AUC = 0.7413\n",
      "-------------------------------------------------------\n",
      "Epoch: 0, Loss: 5.0960e-01\n",
      "Epoch: 100, Loss: 2.0174e-01\n",
      "Epoch: 200, Loss: 1.8932e-01\n",
      "Epoch: 300, Loss: 2.0160e-01\n",
      "Epoch: 400, Loss: 1.7979e-01\n",
      "Epoch: 500, Loss: 1.7532e-01\n",
      "Epoch: 600, Loss: 1.8598e-01\n",
      "Epoch: 700, Loss: 1.9610e-01\n",
      "Epoch: 800, Loss: 1.8111e-01\n",
      "Epoch: 900, Loss: 1.8735e-01\n",
      "Epoch: 1000, Loss: 2.0471e-01\n",
      "Epoch: 1100, Loss: 1.7618e-01\n",
      "Epoch: 1200, Loss: 1.9732e-01\n",
      "Epoch: 1300, Loss: 1.9409e-01\n",
      "Epoch: 1400, Loss: 1.7865e-01\n",
      "Epoch: 1500, Loss: 1.8288e-01\n",
      "Epoch: 1600, Loss: 1.9229e-01\n",
      "Epoch: 1700, Loss: 1.8619e-01\n",
      "Epoch: 1800, Loss: 1.6914e-01\n",
      "Epoch: 1900, Loss: 2.0507e-01\n",
      "Epoch: 2000, Loss: 2.0875e-01\n",
      "Epoch: 2100, Loss: 1.7844e-01\n",
      "Epoch: 2200, Loss: 1.8487e-01\n",
      "Epoch: 2300, Loss: 1.9161e-01\n"
     ]
    },
    {
     "data": {
      "image/png": "[encoded data removed]",
      "text/plain": [
       "<Figure size 432x288 with 1 Axes>"
      ]
     },
     "metadata": {
      "needs_background": "light"
     },
     "output_type": "display_data"
    },
    {
     "name": "stdout",
     "output_type": "stream",
     "text": [
      "-------------------------------------------------------\n",
      "/75+_test2021_leakage/MultiMLP_16hiddensize_3layers_1e-03\n",
      "Train accuracy = 0.9449, Test accuracy = 0.9357\n",
      "Train AUC = 0.7525, Test AUC = 0.7481\n",
      "-------------------------------------------------------\n",
      "Epoch: 0, Loss: 4.6353e+00\n",
      "Epoch: 100, Loss: 2.1087e-01\n",
      "Epoch: 200, Loss: 3.2261e-01\n",
      "Epoch: 300, Loss: 2.4323e-01\n",
      "Epoch: 400, Loss: 2.2080e-01\n",
      "Epoch: 500, Loss: 2.1306e-01\n",
      "Epoch: 600, Loss: 2.1751e-01\n",
      "Epoch: 700, Loss: 1.7369e-01\n",
      "Epoch: 800, Loss: 2.1294e-01\n",
      "Epoch: 900, Loss: 3.5088e-01\n",
      "Epoch: 1000, Loss: 2.8536e-01\n",
      "Epoch: 1100, Loss: 1.9723e-01\n",
      "Epoch: 1200, Loss: 1.9563e-01\n",
      "Epoch: 1300, Loss: 1.8120e-01\n",
      "Epoch: 1400, Loss: 3.1925e-01\n",
      "Epoch: 1500, Loss: 1.8148e-01\n",
      "Epoch: 1600, Loss: 2.0867e-01\n",
      "Epoch: 1700, Loss: 1.9108e-01\n",
      "Epoch: 1800, Loss: 1.7706e-01\n"
     ]
    },
    {
     "data": {
      "image/png": "[encoded data removed]",
      "text/plain": [
       "<Figure size 432x288 with 1 Axes>"
      ]
     },
     "metadata": {
      "needs_background": "light"
     },
     "output_type": "display_data"
    },
    {
     "name": "stdout",
     "output_type": "stream",
     "text": [
      "-------------------------------------------------------\n",
      "/75+_test2021_leakage/MultiMLP_32hiddensize_1layers_1e-03\n",
      "Train accuracy = 0.9449, Test accuracy = 0.9357\n",
      "Train AUC = 0.7728, Test AUC = 0.6862\n",
      "-------------------------------------------------------\n",
      "Epoch: 0, Loss: 8.4497e-01\n",
      "Epoch: 100, Loss: 2.1118e-01\n",
      "Epoch: 200, Loss: 1.8767e-01\n",
      "Epoch: 300, Loss: 2.0687e-01\n",
      "Epoch: 400, Loss: 1.9354e-01\n",
      "Epoch: 500, Loss: 1.7337e-01\n",
      "Epoch: 600, Loss: 1.7396e-01\n",
      "Epoch: 700, Loss: 1.9445e-01\n",
      "Epoch: 800, Loss: 1.9475e-01\n",
      "Epoch: 900, Loss: 1.7671e-01\n",
      "Epoch: 1000, Loss: 1.7651e-01\n",
      "Epoch: 1100, Loss: 2.0080e-01\n",
      "Epoch: 1200, Loss: 1.9989e-01\n",
      "Epoch: 1300, Loss: 1.8128e-01\n",
      "Epoch: 1400, Loss: 1.8288e-01\n",
      "Epoch: 1500, Loss: 1.8964e-01\n",
      "Epoch: 1600, Loss: 1.7662e-01\n",
      "Epoch: 1700, Loss: 2.0225e-01\n",
      "Epoch: 1800, Loss: 1.9608e-01\n",
      "Epoch: 1900, Loss: 1.9666e-01\n",
      "Epoch: 2000, Loss: 1.9439e-01\n",
      "Epoch: 2100, Loss: 1.9139e-01\n",
      "Epoch: 2200, Loss: 1.9702e-01\n"
     ]
    },
    {
     "data": {
      "image/png": "[encoded data removed]",
      "text/plain": [
       "<Figure size 432x288 with 1 Axes>"
      ]
     },
     "metadata": {
      "needs_background": "light"
     },
     "output_type": "display_data"
    },
    {
     "name": "stdout",
     "output_type": "stream",
     "text": [
      "-------------------------------------------------------\n",
      "/75+_test2021_leakage/MultiMLP_32hiddensize_2layers_1e-03\n",
      "Train accuracy = 0.9501, Test accuracy = 0.9357\n",
      "Train AUC = 0.7581, Test AUC = 0.7668\n",
      "-------------------------------------------------------\n",
      "Epoch: 0, Loss: 3.5329e-01\n",
      "Epoch: 100, Loss: 1.8466e-01\n",
      "Epoch: 200, Loss: 1.8407e-01\n",
      "Epoch: 300, Loss: 1.9573e-01\n",
      "Epoch: 400, Loss: 2.0803e-01\n",
      "Epoch: 500, Loss: 2.0705e-01\n",
      "Epoch: 600, Loss: 1.6984e-01\n",
      "Epoch: 700, Loss: 1.6093e-01\n",
      "Epoch: 800, Loss: 1.7679e-01\n",
      "Epoch: 900, Loss: 1.9857e-01\n",
      "Epoch: 1000, Loss: 1.7815e-01\n",
      "Epoch: 1100, Loss: 1.8385e-01\n",
      "Epoch: 1200, Loss: 1.9989e-01\n",
      "Epoch: 1300, Loss: 1.8742e-01\n",
      "Epoch: 1400, Loss: 1.7562e-01\n",
      "Epoch: 1500, Loss: 1.7614e-01\n",
      "Epoch: 1600, Loss: 1.8555e-01\n",
      "Epoch: 1700, Loss: 2.0475e-01\n",
      "Epoch: 1800, Loss: 1.8306e-01\n",
      "Epoch: 1900, Loss: 2.0861e-01\n",
      "Epoch: 2000, Loss: 1.9472e-01\n",
      "Epoch: 2100, Loss: 1.7537e-01\n"
     ]
    },
    {
     "data": {
      "image/png": "[encoded data removed]",
      "text/plain": [
       "<Figure size 432x288 with 1 Axes>"
      ]
     },
     "metadata": {
      "needs_background": "light"
     },
     "output_type": "display_data"
    },
    {
     "name": "stdout",
     "output_type": "stream",
     "text": [
      "-------------------------------------------------------\n",
      "/75+_test2021_leakage/MultiMLP_32hiddensize_3layers_1e-03\n",
      "Train accuracy = 0.9501, Test accuracy = 0.9357\n",
      "Train AUC = 0.7839, Test AUC = 0.7642\n",
      "-------------------------------------------------------\n",
      "Epoch: 0, Loss: 3.8803e+00\n",
      "Epoch: 100, Loss: 2.4272e-01\n",
      "Epoch: 200, Loss: 1.9042e-01\n",
      "Epoch: 300, Loss: 1.9389e-01\n",
      "Epoch: 400, Loss: 2.0767e-01\n",
      "Epoch: 500, Loss: 1.8769e-01\n",
      "Epoch: 600, Loss: 2.0630e-01\n",
      "Epoch: 700, Loss: 2.0234e-01\n",
      "Epoch: 800, Loss: 1.9908e-01\n",
      "Epoch: 900, Loss: 2.0536e-01\n",
      "Epoch: 1000, Loss: 1.9105e-01\n",
      "Epoch: 1100, Loss: 1.9650e-01\n",
      "Epoch: 1200, Loss: 1.8741e-01\n",
      "Epoch: 1300, Loss: 1.9091e-01\n",
      "Epoch: 1400, Loss: 1.9597e-01\n",
      "Epoch: 1500, Loss: 2.1321e-01\n",
      "Epoch: 1600, Loss: 2.6914e-01\n",
      "Epoch: 1700, Loss: 1.8823e-01\n"
     ]
    },
    {
     "data": {
      "image/png": "[encoded data removed]",
      "text/plain": [
       "<Figure size 432x288 with 1 Axes>"
      ]
     },
     "metadata": {
      "needs_background": "light"
     },
     "output_type": "display_data"
    },
    {
     "name": "stdout",
     "output_type": "stream",
     "text": [
      "-------------------------------------------------------\n",
      "/75+_test2021_leakage/MultiMLP_64hiddensize_1layers_1e-03\n",
      "Train accuracy = 0.9475, Test accuracy = 0.9357\n",
      "Train AUC = 0.7959, Test AUC = 0.7125\n",
      "-------------------------------------------------------\n",
      "Epoch: 0, Loss: 4.7509e-01\n",
      "Epoch: 100, Loss: 1.9776e-01\n",
      "Epoch: 200, Loss: 1.8711e-01\n",
      "Epoch: 300, Loss: 1.7945e-01\n",
      "Epoch: 400, Loss: 1.9501e-01\n",
      "Epoch: 500, Loss: 1.8258e-01\n",
      "Epoch: 600, Loss: 1.9923e-01\n",
      "Epoch: 700, Loss: 2.0621e-01\n",
      "Epoch: 800, Loss: 1.7019e-01\n",
      "Epoch: 900, Loss: 2.0279e-01\n",
      "Epoch: 1000, Loss: 1.7998e-01\n",
      "Epoch: 1100, Loss: 1.9054e-01\n",
      "Epoch: 1200, Loss: 1.9233e-01\n",
      "Epoch: 1300, Loss: 1.8201e-01\n",
      "Epoch: 1400, Loss: 2.0166e-01\n",
      "Epoch: 1500, Loss: 1.7278e-01\n",
      "Epoch: 1600, Loss: 1.7281e-01\n",
      "Epoch: 1700, Loss: 1.5999e-01\n",
      "Epoch: 1800, Loss: 1.9896e-01\n"
     ]
    },
    {
     "data": {
      "image/png": "[encoded data removed]",
      "text/plain": [
       "<Figure size 432x288 with 1 Axes>"
      ]
     },
     "metadata": {
      "needs_background": "light"
     },
     "output_type": "display_data"
    },
    {
     "name": "stdout",
     "output_type": "stream",
     "text": [
      "-------------------------------------------------------\n",
      "/75+_test2021_leakage/MultiMLP_64hiddensize_2layers_1e-03\n",
      "Train accuracy = 0.9449, Test accuracy = 0.9357\n",
      "Train AUC = 0.7532, Test AUC = 0.7345\n",
      "-------------------------------------------------------\n",
      "Epoch: 0, Loss: 1.4194e+00\n",
      "Epoch: 100, Loss: 2.1941e-01\n",
      "Epoch: 200, Loss: 1.8069e-01\n",
      "Epoch: 300, Loss: 1.8044e-01\n",
      "Epoch: 400, Loss: 1.9923e-01\n",
      "Epoch: 500, Loss: 1.8010e-01\n",
      "Epoch: 600, Loss: 2.0165e-01\n",
      "Epoch: 700, Loss: 1.6946e-01\n",
      "Epoch: 800, Loss: 1.8433e-01\n",
      "Epoch: 900, Loss: 1.7800e-01\n",
      "Epoch: 1000, Loss: 1.6479e-01\n",
      "Epoch: 1100, Loss: 1.8420e-01\n",
      "Epoch: 1200, Loss: 2.1493e-01\n",
      "Epoch: 1300, Loss: 1.9107e-01\n",
      "Epoch: 1400, Loss: 1.7075e-01\n",
      "Epoch: 1500, Loss: 1.7645e-01\n",
      "Epoch: 1600, Loss: 1.7394e-01\n",
      "Epoch: 1700, Loss: 1.9481e-01\n",
      "Epoch: 1800, Loss: 1.6232e-01\n",
      "Epoch: 1900, Loss: 1.8675e-01\n",
      "Epoch: 2000, Loss: 2.2955e-01\n",
      "Epoch: 2100, Loss: 1.8703e-01\n",
      "Epoch: 2200, Loss: 2.0761e-01\n",
      "Epoch: 2300, Loss: 1.8260e-01\n",
      "Epoch: 2400, Loss: 1.8264e-01\n",
      "Epoch: 2500, Loss: 2.0133e-01\n",
      "Epoch: 2600, Loss: 1.7564e-01\n",
      "Epoch: 2700, Loss: 1.7148e-01\n",
      "Epoch: 2800, Loss: 1.7383e-01\n",
      "Epoch: 2900, Loss: 1.7876e-01\n"
     ]
    },
    {
     "data": {
      "image/png": "[encoded data removed]",
      "text/plain": [
       "<Figure size 432x288 with 1 Axes>"
      ]
     },
     "metadata": {
      "needs_background": "light"
     },
     "output_type": "display_data"
    },
    {
     "name": "stdout",
     "output_type": "stream",
     "text": [
      "-------------------------------------------------------\n",
      "/75+_test2021_leakage/MultiMLP_64hiddensize_3layers_1e-03\n",
      "Train accuracy = 0.9475, Test accuracy = 0.9357\n",
      "Train AUC = 0.7971, Test AUC = 0.7617\n",
      "-------------------------------------------------------\n",
      "Epoch: 0, Loss: 1.1862e+01\n",
      "Epoch: 100, Loss: 1.9604e-01\n",
      "Epoch: 200, Loss: 1.9399e-01\n",
      "Epoch: 300, Loss: 1.8242e-01\n",
      "Epoch: 400, Loss: 1.8357e-01\n",
      "Epoch: 500, Loss: 1.9996e-01\n",
      "Epoch: 600, Loss: 1.8352e-01\n",
      "Epoch: 700, Loss: 2.1897e-01\n",
      "Epoch: 800, Loss: 1.9721e-01\n",
      "Epoch: 900, Loss: 1.7452e-01\n",
      "Epoch: 1000, Loss: 2.0000e-01\n",
      "Epoch: 1100, Loss: 1.9739e-01\n",
      "Epoch: 1200, Loss: 1.9762e-01\n",
      "Epoch: 1300, Loss: 1.7560e-01\n",
      "Epoch: 1400, Loss: 2.0816e-01\n",
      "Epoch: 1500, Loss: 1.9097e-01\n",
      "Epoch: 1600, Loss: 1.9677e-01\n",
      "Epoch: 1700, Loss: 1.7660e-01\n",
      "Epoch: 1800, Loss: 1.8610e-01\n",
      "Epoch: 1900, Loss: 1.8365e-01\n"
     ]
    },
    {
     "data": {
      "image/png": "[encoded data removed]",
      "text/plain": [
       "<Figure size 432x288 with 1 Axes>"
      ]
     },
     "metadata": {
      "needs_background": "light"
     },
     "output_type": "display_data"
    },
    {
     "name": "stdout",
     "output_type": "stream",
     "text": [
      "-------------------------------------------------------\n",
      "/75+_test2021_leakage/MultiMLP_128hiddensize_1layers_1e-03\n",
      "Train accuracy = 0.9501, Test accuracy = 0.9357\n",
      "Train AUC = 0.7772, Test AUC = 0.5038\n",
      "-------------------------------------------------------\n",
      "Epoch: 0, Loss: 3.2011e-01\n",
      "Epoch: 100, Loss: 2.0646e-01\n",
      "Epoch: 200, Loss: 1.8708e-01\n",
      "Epoch: 300, Loss: 1.7313e-01\n",
      "Epoch: 400, Loss: 2.0033e-01\n",
      "Epoch: 500, Loss: 2.0800e-01\n",
      "Epoch: 600, Loss: 1.6849e-01\n",
      "Epoch: 700, Loss: 2.0465e-01\n",
      "Epoch: 800, Loss: 2.0101e-01\n",
      "Epoch: 900, Loss: 2.2013e-01\n",
      "Epoch: 1000, Loss: 1.9074e-01\n",
      "Epoch: 1100, Loss: 1.9638e-01\n",
      "Epoch: 1200, Loss: 1.8561e-01\n",
      "Epoch: 1300, Loss: 1.7980e-01\n",
      "Epoch: 1400, Loss: 1.9931e-01\n",
      "Epoch: 1500, Loss: 1.9501e-01\n",
      "Epoch: 1600, Loss: 1.8986e-01\n",
      "Epoch: 1700, Loss: 1.9991e-01\n",
      "Epoch: 1800, Loss: 1.8092e-01\n",
      "Epoch: 1900, Loss: 2.1342e-01\n",
      "Epoch: 2000, Loss: 2.2598e-01\n",
      "Epoch: 2100, Loss: 2.3081e-01\n",
      "Epoch: 2200, Loss: 1.9497e-01\n",
      "Epoch: 2300, Loss: 1.9994e-01\n",
      "Epoch: 2400, Loss: 1.7260e-01\n",
      "Epoch: 2500, Loss: 1.6065e-01\n"
     ]
    },
    {
     "data": {
      "image/png": "[encoded data removed]",
      "text/plain": [
       "<Figure size 432x288 with 1 Axes>"
      ]
     },
     "metadata": {
      "needs_background": "light"
     },
     "output_type": "display_data"
    },
    {
     "name": "stdout",
     "output_type": "stream",
     "text": [
      "-------------------------------------------------------\n",
      "/75+_test2021_leakage/MultiMLP_128hiddensize_2layers_1e-03\n",
      "Train accuracy = 0.9475, Test accuracy = 0.9357\n",
      "Train AUC = 0.7748, Test AUC = 0.6777\n",
      "-------------------------------------------------------\n",
      "Epoch: 0, Loss: 4.5175e-01\n",
      "Epoch: 100, Loss: 2.1023e-01\n",
      "Epoch: 200, Loss: 1.8099e-01\n",
      "Epoch: 300, Loss: 2.0763e-01\n",
      "Epoch: 400, Loss: 2.0205e-01\n",
      "Epoch: 500, Loss: 1.7318e-01\n",
      "Epoch: 600, Loss: 1.9830e-01\n",
      "Epoch: 700, Loss: 1.7459e-01\n",
      "Epoch: 800, Loss: 2.0391e-01\n",
      "Epoch: 900, Loss: 1.7546e-01\n",
      "Epoch: 1000, Loss: 1.9604e-01\n",
      "Epoch: 1100, Loss: 1.6933e-01\n",
      "Epoch: 1200, Loss: 1.9158e-01\n",
      "Epoch: 1300, Loss: 1.8257e-01\n",
      "Epoch: 1400, Loss: 1.9039e-01\n",
      "Epoch: 1500, Loss: 1.7610e-01\n",
      "Epoch: 1600, Loss: 1.8932e-01\n",
      "Epoch: 1700, Loss: 1.6914e-01\n",
      "Epoch: 1800, Loss: 1.9093e-01\n",
      "Epoch: 1900, Loss: 1.9831e-01\n",
      "Epoch: 2000, Loss: 1.8448e-01\n",
      "Epoch: 2100, Loss: 1.7786e-01\n",
      "Epoch: 2200, Loss: 1.6444e-01\n"
     ]
    },
    {
     "data": {
      "image/png": "[encoded data removed]",
      "text/plain": [
       "<Figure size 432x288 with 1 Axes>"
      ]
     },
     "metadata": {
      "needs_background": "light"
     },
     "output_type": "display_data"
    },
    {
     "name": "stdout",
     "output_type": "stream",
     "text": [
      "-------------------------------------------------------\n",
      "/75+_test2021_leakage/MultiMLP_128hiddensize_3layers_1e-03\n",
      "Train accuracy = 0.9475, Test accuracy = 0.9357\n",
      "Train AUC = 0.7620, Test AUC = 0.6455\n",
      "-------------------------------------------------------\n",
      "Epoch: 0, Loss: 1.1559e+01\n",
      "Epoch: 100, Loss: 2.1980e-01\n",
      "Epoch: 200, Loss: 1.8817e-01\n",
      "Epoch: 300, Loss: 1.8923e-01\n",
      "Epoch: 400, Loss: 1.7819e-01\n",
      "Epoch: 500, Loss: 3.8289e-01\n",
      "Epoch: 600, Loss: 5.6224e-01\n",
      "Epoch: 700, Loss: 1.7283e-01\n",
      "Epoch: 800, Loss: 2.6109e-01\n",
      "Epoch: 900, Loss: 2.0358e-01\n",
      "Epoch: 1000, Loss: 2.0981e-01\n",
      "Epoch: 1100, Loss: 2.0636e-01\n",
      "Epoch: 1200, Loss: 1.7716e-01\n",
      "Epoch: 1300, Loss: 2.3764e-01\n",
      "Epoch: 1400, Loss: 1.8959e-01\n",
      "Epoch: 1500, Loss: 2.0208e-01\n",
      "Epoch: 1600, Loss: 2.0332e-01\n",
      "Epoch: 1700, Loss: 2.4733e-01\n",
      "Epoch: 1800, Loss: 1.7076e-01\n",
      "Epoch: 1900, Loss: 1.9874e-01\n",
      "Epoch: 2000, Loss: 2.1547e-01\n"
     ]
    },
    {
     "data": {
      "image/png": "[encoded data removed]",
      "text/plain": [
       "<Figure size 432x288 with 1 Axes>"
      ]
     },
     "metadata": {
      "needs_background": "light"
     },
     "output_type": "display_data"
    },
    {
     "name": "stdout",
     "output_type": "stream",
     "text": [
      "-------------------------------------------------------\n",
      "/75+_test2021_leakage/MultiMLP_256hiddensize_1layers_1e-03\n",
      "Train accuracy = 0.9449, Test accuracy = 0.9357\n",
      "Train AUC = 0.8499, Test AUC = 0.6098\n",
      "-------------------------------------------------------\n",
      "Epoch: 0, Loss: 6.6053e-01\n",
      "Epoch: 100, Loss: 2.0820e-01\n",
      "Epoch: 200, Loss: 2.2617e-01\n",
      "Epoch: 300, Loss: 1.9177e-01\n",
      "Epoch: 400, Loss: 1.7777e-01\n",
      "Epoch: 500, Loss: 1.8760e-01\n",
      "Epoch: 600, Loss: 2.0891e-01\n",
      "Epoch: 700, Loss: 1.6600e-01\n",
      "Epoch: 800, Loss: 1.6558e-01\n",
      "Epoch: 900, Loss: 1.8343e-01\n",
      "Epoch: 1000, Loss: 1.9430e-01\n",
      "Epoch: 1100, Loss: 1.9368e-01\n",
      "Epoch: 1200, Loss: 1.7908e-01\n",
      "Epoch: 1300, Loss: 1.8055e-01\n",
      "Epoch: 1400, Loss: 2.1074e-01\n",
      "Epoch: 1500, Loss: 1.8835e-01\n",
      "Epoch: 1600, Loss: 1.8057e-01\n",
      "Epoch: 1700, Loss: 1.8373e-01\n",
      "Epoch: 1800, Loss: 2.0425e-01\n"
     ]
    },
    {
     "data": {
      "image/png": "[encoded data removed]",
      "text/plain": [
       "<Figure size 432x288 with 1 Axes>"
      ]
     },
     "metadata": {
      "needs_background": "light"
     },
     "output_type": "display_data"
    },
    {
     "name": "stdout",
     "output_type": "stream",
     "text": [
      "-------------------------------------------------------\n",
      "/75+_test2021_leakage/MultiMLP_256hiddensize_2layers_1e-03\n",
      "Train accuracy = 0.9475, Test accuracy = 0.9357\n",
      "Train AUC = 0.7410, Test AUC = 0.6819\n",
      "-------------------------------------------------------\n",
      "Epoch: 0, Loss: 5.7277e-01\n",
      "Epoch: 100, Loss: 1.9396e-01\n",
      "Epoch: 200, Loss: 1.9155e-01\n",
      "Epoch: 300, Loss: 2.0358e-01\n",
      "Epoch: 400, Loss: 2.0190e-01\n",
      "Epoch: 500, Loss: 1.7465e-01\n",
      "Epoch: 600, Loss: 1.8171e-01\n",
      "Epoch: 700, Loss: 1.8035e-01\n",
      "Epoch: 800, Loss: 1.8648e-01\n",
      "Epoch: 900, Loss: 1.6233e-01\n",
      "Epoch: 1000, Loss: 1.9433e-01\n",
      "Epoch: 1100, Loss: 1.7765e-01\n",
      "Epoch: 1200, Loss: 1.8069e-01\n",
      "Epoch: 1300, Loss: 1.9982e-01\n",
      "Epoch: 1400, Loss: 1.8511e-01\n",
      "Epoch: 1500, Loss: 2.0902e-01\n",
      "Epoch: 1600, Loss: 1.7175e-01\n",
      "Epoch: 1700, Loss: 1.8234e-01\n",
      "Epoch: 1800, Loss: 1.7411e-01\n",
      "Epoch: 1900, Loss: 1.7707e-01\n",
      "Epoch: 2000, Loss: 1.9496e-01\n",
      "Epoch: 2100, Loss: 1.8067e-01\n",
      "Epoch: 2200, Loss: 1.7488e-01\n",
      "Epoch: 2300, Loss: 2.0289e-01\n",
      "Epoch: 2400, Loss: 1.7383e-01\n",
      "Epoch: 2500, Loss: 1.8038e-01\n",
      "Epoch: 2600, Loss: 2.2235e-01\n",
      "Epoch: 2700, Loss: 1.9708e-01\n",
      "Epoch: 2800, Loss: 1.7339e-01\n",
      "Epoch: 2900, Loss: 1.8829e-01\n",
      "Epoch: 3000, Loss: 1.7477e-01\n",
      "Epoch: 3100, Loss: 2.0481e-01\n",
      "Epoch: 3200, Loss: 1.7665e-01\n",
      "Epoch: 3300, Loss: 1.9185e-01\n",
      "Epoch: 3400, Loss: 1.8258e-01\n",
      "Epoch: 3500, Loss: 2.1164e-01\n",
      "Epoch: 3600, Loss: 1.8098e-01\n",
      "Epoch: 3700, Loss: 1.8119e-01\n",
      "Epoch: 3800, Loss: 1.9153e-01\n",
      "Epoch: 3900, Loss: 2.0559e-01\n",
      "Epoch: 4000, Loss: 1.7712e-01\n",
      "Epoch: 4100, Loss: 1.6480e-01\n",
      "Epoch: 4200, Loss: 2.0498e-01\n",
      "Epoch: 4300, Loss: 1.8194e-01\n",
      "Epoch: 4400, Loss: 1.8342e-01\n",
      "Epoch: 4500, Loss: 1.7424e-01\n",
      "Epoch: 4600, Loss: 1.7456e-01\n",
      "Epoch: 4700, Loss: 1.9276e-01\n",
      "Epoch: 4800, Loss: 1.7942e-01\n",
      "Epoch: 4900, Loss: 1.6327e-01\n",
      "Epoch: 5000, Loss: 1.8168e-01\n",
      "Epoch: 5100, Loss: 1.6488e-01\n",
      "Epoch: 5200, Loss: 1.7426e-01\n",
      "Epoch: 5300, Loss: 1.9112e-01\n",
      "Epoch: 5400, Loss: 1.6106e-01\n",
      "Epoch: 5500, Loss: 1.6201e-01\n",
      "Epoch: 5600, Loss: 1.7488e-01\n",
      "Epoch: 5700, Loss: 1.9802e-01\n"
     ]
    },
    {
     "data": {
      "image/png": "[encoded data removed]",
      "text/plain": [
       "<Figure size 432x288 with 1 Axes>"
      ]
     },
     "metadata": {
      "needs_background": "light"
     },
     "output_type": "display_data"
    },
    {
     "name": "stdout",
     "output_type": "stream",
     "text": [
      "-------------------------------------------------------\n",
      "/75+_test2021_leakage/MultiMLP_256hiddensize_3layers_1e-03\n",
      "Train accuracy = 0.9449, Test accuracy = 0.9357\n",
      "Train AUC = 0.7780, Test AUC = 0.7625\n",
      "-------------------------------------------------------\n"
     ]
    }
   ],
   "source": [
    "criterion = nn.BCEWithLogitsLoss()\n",
    "\n",
    "for weight_decay in [1e-3]:\n",
    "    for hidden_size in [16, 32, 64, 128, 256]:\n",
    "        for num_layer in [1, 2, 3]:\n",
    "            \n",
    "            path = 'D:/models/75+_test2021_leakage/MultiMLP_{}hiddensize_{}layers_{:.0e}'.format(hidden_size, num_layer, weight_decay)\n",
    "            #if os.path.isfile(path):\n",
    "            #    continue\n",
    "\n",
    "            model = MLP(input_size=total_train.shape[-1], hidden_size=hidden_size, num_layer=num_layer, num_event=num_event).to(device)\n",
    "            #if os.path.isfile(path):\n",
    "            #    model.load_state_dict(torch.load(path, map_location = device))\n",
    "\n",
    "            lr = 1e-3\n",
    "            optimizer = adabound.AdaBound(model.parameters(), lr=lr, weight_decay=0)\n",
    "\n",
    "            loss_array = []\n",
    "            patience = 0\n",
    "            min_loss = np.inf\n",
    "            for e in range(int(1e6)):\n",
    "\n",
    "                loss_array_tmp = []\n",
    "\n",
    "                for total_batch, event_batch in train_loader:\n",
    "\n",
    "                    total_batch = total_batch.float()\n",
    "                    event_batch = event_batch.reshape(-1,1).float()\n",
    "\n",
    "                    y_pred = model(total_batch.to(device))\n",
    "\n",
    "                    norm = 0.\n",
    "                    for parameter in model.parameters():\n",
    "                        norm += torch.norm(parameter, p=1)\n",
    "\n",
    "                    loss1 = criterion(y_pred, event_batch.to(device))\n",
    "\n",
    "                    loss = loss1 + weight_decay*norm\n",
    "                    loss_array_tmp.append(loss1.item())\n",
    "\n",
    "                    model.zero_grad()\n",
    "\n",
    "                    loss.backward()\n",
    "\n",
    "                    torch.nn.utils.clip_grad_norm_(model.parameters(), 1.)\n",
    "                    optimizer.step()\n",
    "\n",
    "                loss_array.append(np.mean(loss_array_tmp))\n",
    "                if e % 100 == 0:\n",
    "                    print('Epoch: ' + str(e) + \n",
    "                          ', Loss: '+ f'{loss_array[-1]:.4e}')\n",
    "                if min_loss > loss_array[-1]:\n",
    "                    patience = 0\n",
    "                    min_loss = loss_array[-1]\n",
    "                    torch.save(model.state_dict(), path)\n",
    "                else:\n",
    "                    patience += 1\n",
    "\n",
    "                torch.cuda.empty_cache()\n",
    "\n",
    "                if patience > 1000:\n",
    "                    break\n",
    "\n",
    "            plt.plot(loss_array, label='Loss')\n",
    "            plt.ylabel('loss')\n",
    "            plt.xlabel('epoch')\n",
    "            plt.yscale('log')\n",
    "            plt.title(path[2:])\n",
    "            plt.legend()\n",
    "            plt.show()\n",
    "\n",
    "            total_train_sort = torch.FloatTensor(total_train)\n",
    "            total_test_sort = torch.FloatTensor(total_test)\n",
    "\n",
    "            model.load_state_dict(torch.load(path, map_location = device))\n",
    "\n",
    "            y_train = torch.sigmoid(model(total_train_sort.to(device))).detach().cpu().numpy()\n",
    "            y_test = torch.sigmoid(model(total_test_sort.to(device))).detach().cpu().numpy()\n",
    "\n",
    "            out_pred = np.where(y_train >= 0.5, 1, 0)\n",
    "            acc_train = accuracy_score(event_train, out_pred.flatten())\n",
    "            auc_train = roc_auc_score(event_train, y_train.flatten())\n",
    "            \n",
    "            out_pred = np.where(y_test >= 0.5, 1, 0)\n",
    "            acc_test = accuracy_score(event_test, out_pred.flatten())\n",
    "            auc_test = roc_auc_score(event_test, y_test.flatten())\n",
    "            \n",
    "            print('-------------------------------------------------------')\n",
    "            print(path[9:])\n",
    "            print('Train accuracy = {:.4f}, Test accuracy = {:.4f}'.format(acc_train, acc_test))\n",
    "            print('Train AUC = {:.4f}, Test AUC = {:.4f}'.format(auc_train, auc_test))\n",
    "            print('-------------------------------------------------------')"
   ]
  },
  {
   "cell_type": "code",
   "execution_count": null,
   "id": "9356c0a1",
   "metadata": {},
   "outputs": [],
   "source": []
  }
 ],
 "metadata": {
  "kernelspec": {
   "display_name": "Python 3",
   "language": "python",
   "name": "python3"
  },
  "language_info": {
   "codemirror_mode": {
    "name": "ipython",
    "version": 3
   },
   "file_extension": ".py",
   "mimetype": "text/x-python",
   "name": "python",
   "nbconvert_exporter": "python",
   "pygments_lexer": "ipython3",
   "version": "3.9.4"
  },
  "vscode": {
   "interpreter": {
    "hash": "31f2aee4e71d21fbe5cf8b01ff0e069b9275f58929596ceb00d14d90e3e16cd6"
   }
  }
 },
 "nbformat": 4,
 "nbformat_minor": 5
}
