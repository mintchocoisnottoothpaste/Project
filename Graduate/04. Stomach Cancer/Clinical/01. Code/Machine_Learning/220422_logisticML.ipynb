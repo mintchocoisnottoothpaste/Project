{
 "cells": [
  {
   "cell_type": "markdown",
   "id": "bf9bb506",
   "metadata": {},
   "source": [
    "## Predict Early Complication within 30 days After Gastic Cancer Surgery\n",
    "### Date : 220423"
   ]
  },
  {
   "cell_type": "markdown",
   "id": "74efd960",
   "metadata": {},
   "source": [
    "### 1. Library Import"
   ]
  },
  {
   "cell_type": "code",
   "execution_count": 1,
   "id": "0f775a87",
   "metadata": {
    "scrolled": false
   },
   "outputs": [],
   "source": [
    "import tensorflow as tf\n",
    "import pandas as pd\n",
    "import numpy as np\n",
    "import seaborn as sns\n",
    "import matplotlib.pyplot as plt\n",
    "import os"
   ]
  },
  {
   "cell_type": "code",
   "execution_count": null,
   "id": "02f3e6ab",
   "metadata": {},
   "outputs": [],
   "source": [
    "os.getcwd()"
   ]
  },
  {
   "cell_type": "code",
   "execution_count": 2,
   "id": "d377b33c",
   "metadata": {
    "scrolled": true
   },
   "outputs": [],
   "source": [
    "df = pd.read_csv('/Users/jun/Library/CloudStorage/OneDrive-개인/clinical db stomach/ML/early_complication_detection.csv',encoding = 'ISO-8859-1')\n",
    "df = df[['Sex','Age_grp','ASA_Score_nm','Smoking','Drinking','BMI_calc_grp2','Ass_condition_HT','Ass_condition_DM','n_Ass_condition_grp2','Ass_lesion','Clinical_Stage_nm','fStage_grp_nm','Operation_nm','Location_nm','Histology_nm','Lauren_nm','Reconstruction_nm','LN_Dissection_nm','Combined_Resection_nm','Intraop_cc','Hemoglobin_status','Neutrophil_count_status','Z_EBL','OP_time','Platelets','Albumin','Cell_Count','Early_CC_YN']]"
   ]
  },
  {
   "cell_type": "markdown",
   "id": "722cec1d",
   "metadata": {},
   "source": [
    "### 2. Change encodeing for each variables"
   ]
  },
  {
   "cell_type": "code",
   "execution_count": 3,
   "id": "272e884c",
   "metadata": {},
   "outputs": [],
   "source": [
    "#df['Sex'] = df['Sex'].replace('M',1)\n",
    "#df['Sex'] = df['Sex'].replace('F',0)\n",
    "\n",
    "df['Age_grp']=df['Age_grp'].replace('1 <50',\"mid\")\n",
    "df['Age_grp']=df['Age_grp'].replace('2 50-69',\"old\")\n",
    "df['Age_grp']=df['Age_grp'].replace('3 70+','oldold')\n",
    "\n",
    "#df['ASA_Score_nm']=df['ASA_Score_nm'].replace('1-2',1)\n",
    "#df['ASA_Score_nm']=df['ASA_Score_nm'].replace('3-4',2)\n",
    "\n",
    "#df['Smoking']=df['Smoking'].replace('Yes',1)\n",
    "#df['Smoking']=df['Smoking'].replace('No',0)\n",
    "\n",
    "#df['Drinking']=df['Drinking'].replace('Yes',1)\n",
    "#df['Drinking']=df['Drinking'].replace('No',0)\n",
    "\n",
    "df['BMI_calc_grp2']=df['BMI_calc_grp2'].replace('1 <18.5','under')\n",
    "df['BMI_calc_grp2']=df['BMI_calc_grp2'].replace('2 18.5-24.9','normal_preobe')\n",
    "df['BMI_calc_grp2']=df['BMI_calc_grp2'].replace('3 >25','obe')\n",
    "\n",
    "\n",
    "df[\"Ass_condition_HT\"] = df[\"Ass_condition_HT\"].replace(1,'Yes')\n",
    "df[\"Ass_condition_HT\"] = df[\"Ass_condition_HT\"].replace(0,'No')\n",
    "\n",
    "df[\"Ass_condition_DM\"] = df[\"Ass_condition_DM\"].replace(1,'Yes')\n",
    "df[\"Ass_condition_DM\"] = df[\"Ass_condition_DM\"].replace(0,'No')\n",
    "\n",
    "\n",
    "df['n_Ass_condition_grp2']=df['n_Ass_condition_grp2'].replace('0','zero')\n",
    "df['n_Ass_condition_grp2']=df['n_Ass_condition_grp2'].replace('1','one')\n",
    "df['n_Ass_condition_grp2']=df['n_Ass_condition_grp2'].replace('2','two')\n",
    "df['n_Ass_condition_grp2']=df['n_Ass_condition_grp2'].replace('3+','above_three')\n",
    "\n",
    "df[\"Ass_lesion\"] = df[\"Ass_lesion\"].replace(1,'Yes')\n",
    "df[\"Ass_lesion\"] = df[\"Ass_lesion\"].replace(0,'No')\n",
    "\n",
    "\n",
    "#df['Clinical_Stage_nm']=df['Clinical_Stage_nm'].replace('1-2',1)\n",
    "#df['Clinical_Stage_nm']=df['Clinical_Stage_nm'].replace('3-4',2)\n",
    "\n",
    "#df['fStage_grp_nm']=df['fStage_grp_nm'].replace('1-2',1)\n",
    "#df['fStage_grp_nm']=df['fStage_grp_nm'].replace('3-4',2)\n",
    "\n",
    "#df['Operation_nm']=df['Operation_nm'].replace('Total Gastractomy',1)\n",
    "#df['Operation_nm']=df['Operation_nm'].replace('Partial Gastractomy',2)\n",
    "\n",
    "df['Location_nm']=df['Location_nm'].replace('1 Lower','low')\n",
    "df['Location_nm']=df['Location_nm'].replace('2 Middle','mid')\n",
    "df['Location_nm']=df['Location_nm'].replace('3 Upper','up')\n",
    "df['Location_nm']=df['Location_nm'].replace('4 Others','other')\n",
    "\n",
    "df['Histology_nm']=df['Histology_nm'].replace('01. Well/Moderately differentiated','well_mode')\n",
    "df['Histology_nm']=df['Histology_nm'].replace('02. Poorly differentiated/Signet ring cell','poor_signet')\n",
    "df['Histology_nm']=df['Histology_nm'].replace('03. Others','others')\n",
    "\n",
    "\n",
    "df['Lauren_nm']=df['Lauren_nm'].replace('1. Intestinal','intersitnal')\n",
    "df['Lauren_nm']=df['Lauren_nm'].replace('2. Diffuse','diffuse')\n",
    "df['Lauren_nm']=df['Lauren_nm'].replace('3. Mixed','mixed')\n",
    "df['Lauren_nm']=df['Lauren_nm'].replace('4. Indeterminate','indeterminate')\n",
    "df['Lauren_nm']=df['Lauren_nm'].replace('5. Unknown','unknown')\n",
    "\n",
    "df['Reconstruction_nm']=df['Reconstruction_nm'].replace('1 BI','billroth1')\n",
    "df['Reconstruction_nm']=df['Reconstruction_nm'].replace('2 BII','billroth2')\n",
    "df['Reconstruction_nm']=df['Reconstruction_nm'].replace('3 Roux-en-Y','roux-en-y')\n",
    "df['Reconstruction_nm']=df['Reconstruction_nm'].replace('4 Others','others')\n",
    "\n",
    "df['LN_Dissection_nm']=df['LN_Dissection_nm'].replace('1. D1','D1')\n",
    "df['LN_Dissection_nm']=df['LN_Dissection_nm'].replace('2. D2','D2')\n",
    "\n",
    "\n",
    "#df['Combined_Resection_nm']=df['Combined_Resection_nm'].replace('Yes',1)\n",
    "#df['Combined_Resection_nm']=df['Combined_Resection_nm'].replace('No',2)\n",
    "\n",
    "\n",
    "df['Intraop_cc']=df['Intraop_cc'].replace(1,'Yes')\n",
    "df['Intraop_cc']=df['Intraop_cc'].replace(0,'No')\n",
    "\n",
    "df['Hemoglobin_status']=df['Hemoglobin_status'].replace('1. Normal','normal')\n",
    "df['Hemoglobin_status']=df['Hemoglobin_status'].replace('2. Abnormal','abnormal')\n",
    "\n",
    "\n",
    "df['Neutrophil_count_status']=df['Neutrophil_count_status'].replace('1. Normal','normal')\n",
    "df['Neutrophil_count_status']=df['Neutrophil_count_status'].replace('2. Abnormal','abnormal')"
   ]
  },
  {
   "cell_type": "code",
   "execution_count": 4,
   "id": "ec684d11",
   "metadata": {
    "scrolled": true
   },
   "outputs": [
    {
     "name": "stdout",
     "output_type": "stream",
     "text": [
      "  Sex Age_grp ASA_Score_nm Smoking Drinking  BMI_calc_grp2 Ass_condition_HT  \\\n",
      "0   M     mid          1-2      No       No            obe               No   \n",
      "1   F     mid          1-2      No       No            obe               No   \n",
      "2   M     mid          1-2     Yes      Yes            obe              Yes   \n",
      "3   M     mid          1-2      No       No            obe              Yes   \n",
      "4   F     mid          1-2      No       No  normal_preobe               No   \n",
      "\n",
      "  Ass_condition_DM n_Ass_condition_grp2 Ass_lesion  ... Combined_Resection_nm  \\\n",
      "0               No                  one         No  ...                    No   \n",
      "1               No                 zero         No  ...                    No   \n",
      "2               No                  two         No  ...                    No   \n",
      "3               No                  one         No  ...                    No   \n",
      "4               No                  one         No  ...                    No   \n",
      "\n",
      "  Intraop_cc Hemoglobin_status Neutrophil_count_status     Z_EBL OP_time  \\\n",
      "0         No            normal                  normal  0.178110     140   \n",
      "1         No            normal                  normal -0.197507     105   \n",
      "2         No          abnormal                  normal  0.553728     290   \n",
      "3         No            normal                  normal -0.197507     155   \n",
      "4         No            normal                  normal  0.084206     165   \n",
      "\n",
      "  Platelets Albumin Cell_Count Early_CC_YN  \n",
      "0       369     4.3    196.920           1  \n",
      "1       359     4.7    229.976           0  \n",
      "2       317     5.0    197.743           0  \n",
      "3       189     4.8    152.880           0  \n",
      "4       209     4.8    233.160           0  \n",
      "\n",
      "[5 rows x 28 columns]\n",
      "Index(['Sex', 'Age_grp', 'ASA_Score_nm', 'Smoking', 'Drinking',\n",
      "       'BMI_calc_grp2', 'Ass_condition_HT', 'Ass_condition_DM',\n",
      "       'n_Ass_condition_grp2', 'Ass_lesion', 'Clinical_Stage_nm',\n",
      "       'fStage_grp_nm', 'Operation_nm', 'Location_nm', 'Histology_nm',\n",
      "       'Lauren_nm', 'Reconstruction_nm', 'LN_Dissection_nm',\n",
      "       'Combined_Resection_nm', 'Intraop_cc', 'Hemoglobin_status',\n",
      "       'Neutrophil_count_status', 'Z_EBL', 'OP_time', 'Platelets', 'Albumin',\n",
      "       'Cell_Count', 'Early_CC_YN'],\n",
      "      dtype='object')\n",
      "<class 'pandas.core.frame.DataFrame'>\n",
      "RangeIndex: 3547 entries, 0 to 3546\n",
      "Data columns (total 28 columns):\n",
      " #   Column                   Non-Null Count  Dtype  \n",
      "---  ------                   --------------  -----  \n",
      " 0   Sex                      3547 non-null   object \n",
      " 1   Age_grp                  3547 non-null   object \n",
      " 2   ASA_Score_nm             3547 non-null   object \n",
      " 3   Smoking                  3546 non-null   object \n",
      " 4   Drinking                 3545 non-null   object \n",
      " 5   BMI_calc_grp2            3546 non-null   object \n",
      " 6   Ass_condition_HT         3547 non-null   object \n",
      " 7   Ass_condition_DM         3547 non-null   object \n",
      " 8   n_Ass_condition_grp2     3547 non-null   object \n",
      " 9   Ass_lesion               3547 non-null   object \n",
      " 10  Clinical_Stage_nm        3545 non-null   object \n",
      " 11  fStage_grp_nm            3544 non-null   object \n",
      " 12  Operation_nm             3547 non-null   object \n",
      " 13  Location_nm              3547 non-null   object \n",
      " 14  Histology_nm             3547 non-null   object \n",
      " 15  Lauren_nm                3546 non-null   object \n",
      " 16  Reconstruction_nm        3547 non-null   object \n",
      " 17  LN_Dissection_nm         3544 non-null   object \n",
      " 18  Combined_Resection_nm    3547 non-null   object \n",
      " 19  Intraop_cc               3547 non-null   object \n",
      " 20  Hemoglobin_status        3547 non-null   object \n",
      " 21  Neutrophil_count_status  3547 non-null   object \n",
      " 22  Z_EBL                    3547 non-null   float64\n",
      " 23  OP_time                  3547 non-null   int64  \n",
      " 24  Platelets                3547 non-null   int64  \n",
      " 25  Albumin                  3547 non-null   float64\n",
      " 26  Cell_Count               3547 non-null   float64\n",
      " 27  Early_CC_YN              3547 non-null   int64  \n",
      "dtypes: float64(3), int64(3), object(22)\n",
      "memory usage: 776.0+ KB\n",
      "None\n",
      "              count          mean        std        min         25%  \\\n",
      "Z_EBL        3547.0 -2.737513e-11   1.000000  -0.197507   -0.178726   \n",
      "OP_time      3547.0  1.970857e+02  61.955518   0.000000  155.000000   \n",
      "Platelets    3547.0  2.553502e+02  72.587888  57.000000  208.000000   \n",
      "Albumin      3547.0  4.289089e+00   0.338533   1.900000    4.100000   \n",
      "Cell_Count   3547.0  2.002677e+02  65.377102  20.026000  154.672500   \n",
      "Early_CC_YN  3547.0  2.151114e-01   0.410958   0.000000    0.000000   \n",
      "\n",
      "                    50%         75%        max  \n",
      "Z_EBL         -0.141164   -0.009698   56.14511  \n",
      "OP_time      185.000000  230.000000  605.00000  \n",
      "Platelets    246.000000  291.500000  829.00000  \n",
      "Albumin        4.300000    4.500000    5.30000  \n",
      "Cell_Count   192.231000  237.120000  699.79800  \n",
      "Early_CC_YN    0.000000    0.000000    1.00000  \n",
      "Sex                        0\n",
      "Age_grp                    0\n",
      "ASA_Score_nm               0\n",
      "Smoking                    1\n",
      "Drinking                   2\n",
      "BMI_calc_grp2              1\n",
      "Ass_condition_HT           0\n",
      "Ass_condition_DM           0\n",
      "n_Ass_condition_grp2       0\n",
      "Ass_lesion                 0\n",
      "Clinical_Stage_nm          2\n",
      "fStage_grp_nm              3\n",
      "Operation_nm               0\n",
      "Location_nm                0\n",
      "Histology_nm               0\n",
      "Lauren_nm                  1\n",
      "Reconstruction_nm          0\n",
      "LN_Dissection_nm           3\n",
      "Combined_Resection_nm      0\n",
      "Intraop_cc                 0\n",
      "Hemoglobin_status          0\n",
      "Neutrophil_count_status    0\n",
      "Z_EBL                      0\n",
      "OP_time                    0\n",
      "Platelets                  0\n",
      "Albumin                    0\n",
      "Cell_Count                 0\n",
      "Early_CC_YN                0\n",
      "dtype: int64\n",
      "\n",
      "\n"
     ]
    }
   ],
   "source": [
    "print(df.head())\n",
    "print(df.columns)\n",
    "print(df.info())\n",
    "print(df.describe().T)\n",
    "print(df.isnull().sum())\n",
    "print('\\n')"
   ]
  },
  {
   "cell_type": "markdown",
   "id": "7bea7f27",
   "metadata": {},
   "source": [
    "### one hot encoding"
   ]
  },
  {
   "cell_type": "code",
   "execution_count": 4,
   "id": "b531dade",
   "metadata": {
    "scrolled": false
   },
   "outputs": [],
   "source": [
    "df = pd.get_dummies(data = df, columns = ['Sex', 'Age_grp', 'ASA_Score_nm', 'Smoking', 'Drinking',\n",
    "       'BMI_calc_grp2', 'Ass_condition_HT', 'Ass_condition_DM',\n",
    "       'n_Ass_condition_grp2', 'Ass_lesion', 'Clinical_Stage_nm',\n",
    "       'fStage_grp_nm', 'Operation_nm', 'Location_nm', 'Histology_nm',\n",
    "       'Lauren_nm', 'Reconstruction_nm', 'LN_Dissection_nm',\n",
    "       'Combined_Resection_nm', 'Intraop_cc', 'Hemoglobin_status',\n",
    "       'Neutrophil_count_status'], prefix = ['sex', 'age', 'asa.score', 'smoking', 'drinking',\n",
    "       'bmi', 'assoc.ht', 'assoc.dm',\n",
    "       'assoc.grp', 'assoc.lesion', 'c.stage',\n",
    "       'f.stage', 'operation', 'location', 'hitology',\n",
    "       'Lauren_nm', 'reconstruction', 'ln.dissection',\n",
    "       'comb.resection', 'intraop.cc', 'hemoglobin',\n",
    "       'neutrohil'])"
   ]
  },
  {
   "cell_type": "code",
   "execution_count": 6,
   "id": "6c2ca257",
   "metadata": {},
   "outputs": [
    {
     "name": "stdout",
     "output_type": "stream",
     "text": [
      "Early_CC_YN                      1.000000\n",
      "OP_time                          0.244765\n",
      "operation_Total Gastractomy      0.177871\n",
      "c.stage_3-4                      0.172971\n",
      "reconstruction_roux-en-y         0.169259\n",
      "                                   ...   \n",
      "f.stage_1-2                     -0.138752\n",
      "sex_F                           -0.139194\n",
      "intraop.cc_No                   -0.155144\n",
      "c.stage_1-2                     -0.171934\n",
      "operation_Partial Gastractomy   -0.177871\n",
      "Name: Early_CC_YN, Length: 62, dtype: float64\n"
     ]
    },
    {
     "data": {
      "image/png": "[encoded data removed]",
      "text/plain": [
       "<Figure size 432x288 with 1 Axes>"
      ]
     },
     "metadata": {
      "needs_background": "light"
     },
     "output_type": "display_data"
    }
   ],
   "source": [
    "print(df.corr()['Early_CC_YN'].sort_values(ascending=False))\n",
    "df.corr()['Early_CC_YN'].sort_values().plot(kind='bar')\n",
    "plt.show()"
   ]
  },
  {
   "cell_type": "code",
   "execution_count": 7,
   "id": "6703d599",
   "metadata": {},
   "outputs": [
    {
     "data": {
      "image/png": "[encoded data removed]",
      "text/plain": [
       "<Figure size 432x288 with 2 Axes>"
      ]
     },
     "metadata": {
      "needs_background": "light"
     },
     "output_type": "display_data"
    }
   ],
   "source": [
    "sns.heatmap(df.corr())\n",
    "plt.show()"
   ]
  },
  {
   "cell_type": "code",
   "execution_count": 8,
   "id": "57cee456",
   "metadata": {
    "scrolled": true
   },
   "outputs": [
    {
     "data": {
      "image/png": "[encoded data removed]",
      "text/plain": [
       "<Figure size 432x288 with 1 Axes>"
      ]
     },
     "metadata": {},
     "output_type": "display_data"
    }
   ],
   "source": [
    "sns.set_style('darkgrid')\n",
    "sns.countplot(x='Early_CC_YN', data=df)\n",
    "plt.show()"
   ]
  },
  {
   "cell_type": "code",
   "execution_count": null,
   "id": "1a25ed9b",
   "metadata": {},
   "outputs": [],
   "source": [
    "#x_year_list1 = [2014,2015,2016,2017,2018,2019]\n",
    "#y_year_list1 = [2020,2021]\n",
    "\n",
    "#x_year_list2 = [2015,2016,2017,2018,2019,2020]\n",
    "#y_year_list2 = [2014,2021]"
   ]
  },
  {
   "cell_type": "code",
   "execution_count": null,
   "id": "9ab14d3a",
   "metadata": {},
   "outputs": [],
   "source": [
    "#train1 = df[df['OP_year'].isin(x_year_list1)]\n",
    "#test1  = df[df['OP_year'].isin(y_year_list1)]\n",
    "\n",
    "#train2 = df[df['OP_year'].isin(x_year_list2)]\n",
    "#test2 = df[df['OP_year'].isin(y_year_list2)]"
   ]
  },
  {
   "cell_type": "code",
   "execution_count": null,
   "id": "d371b328",
   "metadata": {},
   "outputs": [],
   "source": [
    "#train_x1 = train1.drop('Early_CC_YN', axis=1).values\n",
    "#train_y1 = train1['Early_CC_YN'].values\n",
    "\n",
    "#test_x1 = test1.drop('Early_CC_YN', axis=1).values\n",
    "#test_y1 = test1['Early_CC_YN'].values\n",
    "\n",
    "#train_x2 = train2.drop('Early_CC_YN', axis=1).values\n",
    "#train_y2 = train2['Early_CC_YN'].values\n",
    "\n",
    "#test_x2 = test2.drop('Early_CC_YN', axis=1).values\n",
    "#test_y2 = test2['Early_CC_YN'].values"
   ]
  },
  {
   "cell_type": "markdown",
   "id": "105d52eb",
   "metadata": {},
   "source": [
    "## Feature Scaling"
   ]
  },
  {
   "cell_type": "code",
   "execution_count": 25,
   "id": "24c87751",
   "metadata": {},
   "outputs": [],
   "source": [
    "from sklearn.model_selection import train_test_split\n",
    "from sklearn.preprocessing import MinMaxScaler"
   ]
  },
  {
   "cell_type": "code",
   "execution_count": 26,
   "id": "07fd73c8",
   "metadata": {},
   "outputs": [],
   "source": [
    "X = df.drop('Early_CC_YN', axis=1).values\n",
    "y = df['Early_CC_YN'].values"
   ]
  },
  {
   "cell_type": "code",
   "execution_count": 27,
   "id": "759e4f6c",
   "metadata": {},
   "outputs": [],
   "source": [
    "X_train, X_test, y_train, y_test = train_test_split(X, y, test_size=0.3, shuffle=True, random_state=20220423)\n",
    "#X_train, X_val, y_train, y_val = train_test_split(X_train, y_train, test_size=0.2, shuffle=True,random_state=20220423)"
   ]
  },
  {
   "cell_type": "code",
   "execution_count": 28,
   "id": "b78f7161",
   "metadata": {},
   "outputs": [],
   "source": [
    "scaler = MinMaxScaler()\n",
    "X_train = scaler.fit_transform(X_train)\n",
    "#X_val = scaler.fit_transform(X_train)\n",
    "X_test = scaler.transform(X_test)"
   ]
  },
  {
   "cell_type": "markdown",
   "id": "b1826cc4",
   "metadata": {},
   "source": [
    "## logistic"
   ]
  },
  {
   "cell_type": "code",
   "execution_count": 29,
   "id": "4ee4362d",
   "metadata": {},
   "outputs": [],
   "source": [
    "from sklearn.linear_model import LogisticRegression\n",
    "from sklearn.metrics import confusion_matrix\n",
    "from sklearn.metrics import accuracy_score, roc_auc_score, roc_curve\n",
    "from sklearn.metrics import precision_score, recall_score, f1_score"
   ]
  },
  {
   "cell_type": "code",
   "execution_count": 30,
   "id": "fc901a99",
   "metadata": {},
   "outputs": [
    {
     "name": "stdout",
     "output_type": "stream",
     "text": [
      "정확도 :  0.7953\n",
      "정밀도 :  0.5632 / 재현율 :  0.214 / f1 score :  0.3101\n"
     ]
    },
    {
     "name": "stderr",
     "output_type": "stream",
     "text": [
      "/Users/jun/miniforge3/lib/python3.9/site-packages/sklearn/linear_model/_logistic.py:814: ConvergenceWarning: lbfgs failed to converge (status=1):\n",
      "STOP: TOTAL NO. of ITERATIONS REACHED LIMIT.\n",
      "\n",
      "Increase the number of iterations (max_iter) or scale the data as shown in:\n",
      "    https://scikit-learn.org/stable/modules/preprocessing.html\n",
      "Please also refer to the documentation for alternative solver options:\n",
      "    https://scikit-learn.org/stable/modules/linear_model.html#logistic-regression\n",
      "  n_iter_i = _check_optimize_result(\n"
     ]
    }
   ],
   "source": [
    "logit = LogisticRegression()\n",
    "logit.fit(X_train,y_train)\n",
    "\n",
    "# accuracy\n",
    "y_pred1 = logit.predict(X_test) # 모델을 통해 예측한 y값 (=예측치)\n",
    "logit_acc = round(accuracy_score(y_test, y_pred1)  ,4)\n",
    "print('정확도 : ', logit_acc) \n",
    "\n",
    "# confusion matrix\n",
    "logit_cf = confusion_matrix(y_test, y_pred1)\n",
    "logit_cf\n",
    "\n",
    "# 정밀도, 재현율, f1 score\n",
    "precision = round(precision_score(y_test, y_pred1),4)\n",
    "recall = round(recall_score(y_test, y_pred1),4)\n",
    "f1 = round(f1_score(y_test, y_pred1),4)\n",
    "\n",
    "print('정밀도 : ', precision, '/ 재현율 : ', recall, '/ f1 score : ', f1)"
   ]
  },
  {
   "cell_type": "markdown",
   "id": "ec6bc781",
   "metadata": {},
   "source": [
    "## RandomForestClassifier"
   ]
  },
  {
   "cell_type": "code",
   "execution_count": null,
   "id": "a1f9af65",
   "metadata": {},
   "outputs": [],
   "source": [
    "from sklearn.ensemble import RandomForestClassifier"
   ]
  },
  {
   "cell_type": "code",
   "execution_count": null,
   "id": "ea6112c3",
   "metadata": {},
   "outputs": [],
   "source": [
    "# Fitting Random Forest Classification to the Training set\n",
    "from sklearn.ensemble import RandomForestClassifier\n",
    "classifier1 = RandomForestClassifier(n_estimators = 20, criterion = 'gini', random_state =0)\n",
    "classifier1.fit(X_train, y_train)"
   ]
  },
  {
   "cell_type": "code",
   "execution_count": null,
   "id": "f0566e05",
   "metadata": {},
   "outputs": [],
   "source": [
    "print('Ridge Regression Train Score is : ' , classifier1.score(X_train, y_train))\n",
    "print('Ridge Regression Test Score is : ' , classifier1.score(X_test, y_test))"
   ]
  },
  {
   "cell_type": "code",
   "execution_count": null,
   "id": "1ccbbf78",
   "metadata": {},
   "outputs": [],
   "source": [
    "from sklearn.metrics import classification_report,confusion_matrix\n",
    "print(classification_report(y_test,y_pred))"
   ]
  },
  {
   "cell_type": "code",
   "execution_count": null,
   "id": "fffd55f9",
   "metadata": {},
   "outputs": [],
   "source": [
    "total=sum(sum(confusion_matrix))\n",
    "\n",
    "sensitivity = confusion_matrix[0,0]/(confusion_matrix[0,0]+confusion_matrix[1,0])\n",
    "print('Sensitivity : ', sensitivity )\n",
    "\n",
    "specificity = confusion_matrix[1,1]/(confusion_matrix[1,1]+confusion_matrix[0,1])\n",
    "print('Specificity : ', specificity)\n",
    "\n",
    "\n",
    "total=sum(sum(confusion_matrix))\n",
    "\n",
    "ppv = confusion_matrix[0,0]/(confusion_matrix[0,0]+confusion_matrix[0,1])\n",
    "print('ppv : ', ppv )\n",
    "\n",
    "npv = confusion_matrix[1,1]/(confusion_matrix[1,0]+confusion_matrix[1,1])\n",
    "print('npv : ', npv)"
   ]
  },
  {
   "cell_type": "code",
   "execution_count": null,
   "id": "b44df10d",
   "metadata": {
    "scrolled": true
   },
   "outputs": [],
   "source": [
    "from sklearn.metrics import roc_curve, auc #for model evaluation\n",
    "from matplotlib import pyplot\n",
    "fig, (ax2) = plt.subplots(figsize = (8,6))\n",
    "        #roc-curve\n",
    "fpr, tpr, thresholds_roc = roc_curve(y_test,y_pred)\n",
    "roc_auc = auc(fpr,tpr)\n",
    "ax2.plot(fpr,tpr, label = \" AUROC = {:0.2f}\".format(roc_auc))\n",
    "ax2.plot([0,1], [0,1], 'r', linestyle = \"--\", lw = 2)\n",
    "ax2.set_xlabel(\"False Positive Rate\", fontsize = 14)\n",
    "ax2.set_ylabel(\"True Positive Rate\", fontsize = 14)\n",
    "ax2.set_title(\"ROC Curve\", fontsize = 18)\n",
    "ax2.legend(loc = 'best')\n",
    "plt.title('ROC curve for RandomForestClassifier')\n",
    "plt.xlabel('False Positive Rate (1 - Specificity)')\n",
    "plt.ylabel('True Positive Rate (Sensitivity)')\n",
    "        #find default threshold\n",
    "close_default = np.argmin(np.abs(thresholds_roc - 0.5))\n",
    "ax2.plot(fpr[close_default], tpr[close_default], 'o', markersize = 8)\n",
    "plt.tight_layout()"
   ]
  },
  {
   "cell_type": "markdown",
   "id": "c62e3f10",
   "metadata": {},
   "source": [
    "## XGBClassifier"
   ]
  },
  {
   "cell_type": "code",
   "execution_count": null,
   "id": "b9434ee5",
   "metadata": {},
   "outputs": [],
   "source": [
    "from xgboost import XGBClassifier\n",
    "from sklearn import metrics\n",
    "# Creating model object\n",
    "model_xgb = XGBClassifier(use_label_encoder=False,eval_metric='logloss')\n",
    "model_xgb.fit(X_train, y_train)"
   ]
  },
  {
   "cell_type": "code",
   "execution_count": null,
   "id": "a400e744",
   "metadata": {},
   "outputs": [],
   "source": [
    "print('model_xgb Train Score is : ' , model_xgb.score(X_train, y_train))\n",
    "print('model_xgb Test Score is : ' , model_xgb.score(X_test, y_test))"
   ]
  },
  {
   "cell_type": "code",
   "execution_count": null,
   "id": "b7370128",
   "metadata": {},
   "outputs": [],
   "source": [
    "y_pred1 = model_xgb.predict(X_test)\n",
    "y_pred1[:10]"
   ]
  },
  {
   "cell_type": "code",
   "execution_count": null,
   "id": "6788a85e",
   "metadata": {},
   "outputs": [],
   "source": [
    "from sklearn.metrics import confusion_matrix,classification_report,plot_confusion_matrix #for model evaluation\n",
    "confusion_matrix2=confusion_matrix(y_test,y_pred1)\n",
    "confusion_matrix2"
   ]
  },
  {
   "cell_type": "code",
   "execution_count": null,
   "id": "0e44dcac",
   "metadata": {},
   "outputs": [],
   "source": [
    "from sklearn.metrics import plot_confusion_matrix\n",
    "# Confusion Matrix\n",
    "from sklearn.metrics import confusion_matrix\n",
    "cm2 = confusion_matrix(y_test, y_pred1)"
   ]
  },
  {
   "cell_type": "code",
   "execution_count": null,
   "id": "b5c950bf",
   "metadata": {},
   "outputs": [],
   "source": [
    "from sklearn.metrics import confusion_matrix, ConfusionMatrixDisplay\n",
    "disp = ConfusionMatrixDisplay(confusion_matrix=cm2,display_labels=model_xgb.classes_)\n",
    "disp.plot()\n",
    "plt.show()"
   ]
  },
  {
   "cell_type": "code",
   "execution_count": null,
   "id": "29e48815",
   "metadata": {},
   "outputs": [],
   "source": [
    "# mean_absolute_error\n",
    "from sklearn.metrics import mean_absolute_error\n",
    "meanabs =mean_absolute_error(y_test, y_pred1)\n",
    "# mean_squared_error\n",
    "from sklearn.metrics import mean_squared_error\n",
    "meansq =mean_squared_error(y_test, y_pred1)\n",
    "# median_absolute_error\n",
    "from sklearn.metrics import median_absolute_error\n",
    "medianab =median_absolute_error(y_test, y_pred1)"
   ]
  },
  {
   "cell_type": "code",
   "execution_count": null,
   "id": "c966640a",
   "metadata": {},
   "outputs": [],
   "source": [
    "print(\"The mean_absolute_error\",meanabs)\n",
    "print(\"The mean_Squre_error\",meansq)\n",
    "print(\"The Medain_absolute_error\",medianab)"
   ]
  },
  {
   "cell_type": "code",
   "execution_count": null,
   "id": "43e677ce",
   "metadata": {},
   "outputs": [],
   "source": [
    "total=sum(sum(confusion_matrix2))\n",
    "\n",
    "sensitivity = confusion_matrix2[0,0]/(confusion_matrix2[0,0]+confusion_matrix2[1,0])\n",
    "print('Sensitivity : ', sensitivity )\n",
    "\n",
    "specificity = confusion_matrix2[1,1]/(confusion_matrix2[1,1]+confusion_matrix2[0,1])\n",
    "print('Specificity : ', specificity)"
   ]
  },
  {
   "cell_type": "code",
   "execution_count": null,
   "id": "bf86f330",
   "metadata": {},
   "outputs": [],
   "source": [
    "total=sum(sum(confusion_matrix2))\n",
    "\n",
    "ppv = confusion_matrix2[0,0]/(confusion_matrix2[0,0]+confusion_matrix2[0,1])\n",
    "print('ppv : ', ppv )\n",
    "\n",
    "npv = confusion_matrix2[1,1]/(confusion_matrix2[1,0]+confusion_matrix2[1,1])\n",
    "print('npv : ', npv)"
   ]
  },
  {
   "cell_type": "code",
   "execution_count": null,
   "id": "174afb0e",
   "metadata": {},
   "outputs": [],
   "source": [
    "from sklearn.metrics import roc_curve, auc #for model evaluation\n",
    "from matplotlib import pyplot\n",
    "fig, (ax2) = plt.subplots(figsize = (8,6))\n",
    "        #roc-curve\n",
    "fpr, tpr, thresholds_roc = roc_curve(y_test,y_pred1)\n",
    "roc_auc = auc(fpr,tpr)\n",
    "ax2.plot(fpr,tpr, label = \" AUROC = {:0.2f}\".format(roc_auc))\n",
    "ax2.plot([0,1], [0,1], 'r', linestyle = \"--\", lw = 2)\n",
    "ax2.set_xlabel(\"False Positive Rate\", fontsize = 14)\n",
    "ax2.set_ylabel(\"True Positive Rate\", fontsize = 14)\n",
    "ax2.set_title(\"ROC Curve\", fontsize = 18)\n",
    "ax2.legend(loc = 'best')\n",
    "plt.title('ROC curve for XGBClassifier ')\n",
    "plt.xlabel('False Positive Rate (1 - Specificity)')\n",
    "plt.ylabel('True Positive Rate (Sensitivity)')\n",
    "        #find default threshold\n",
    "close_default = np.argmin(np.abs(thresholds_roc - 0.5))\n",
    "ax2.plot(fpr[close_default], tpr[close_default], 'o', markersize = 8)\n",
    "plt.tight_layout()"
   ]
  },
  {
   "cell_type": "markdown",
   "id": "0afddd8d",
   "metadata": {},
   "source": [
    "## Construct Layer"
   ]
  },
  {
   "cell_type": "code",
   "execution_count": 23,
   "id": "86554536",
   "metadata": {},
   "outputs": [],
   "source": [
    "from tensorflow.keras.models import Sequential\n",
    "from tensorflow.keras.layers import Dense, Activation\n",
    "from tensorflow.keras.callbacks import EarlyStopping\n",
    "from tensorflow.keras.layers import Dropout"
   ]
  },
  {
   "cell_type": "code",
   "execution_count": 24,
   "id": "9f885c5a",
   "metadata": {},
   "outputs": [
    {
     "name": "stdout",
     "output_type": "stream",
     "text": [
      "Metal device set to: Apple M1 Pro\n"
     ]
    },
    {
     "name": "stderr",
     "output_type": "stream",
     "text": [
      "2022-04-24 23:11:53.214581: I tensorflow/core/common_runtime/pluggable_device/pluggable_device_factory.cc:305] Could not identify NUMA node of platform GPU ID 0, defaulting to 0. Your kernel may not have been built with NUMA support.\n",
      "2022-04-24 23:11:53.214945: I tensorflow/core/common_runtime/pluggable_device/pluggable_device_factory.cc:271] Created TensorFlow device (/job:localhost/replica:0/task:0/device:GPU:0 with 0 MB memory) -> physical PluggableDevice (device: 0, name: METAL, pci bus id: <undefined>)\n"
     ]
    }
   ],
   "source": [
    "model = Sequential()\n",
    "model.add(Dense(30, activation='relu'))\n",
    "model.add(Dropout(0.1))\n",
    "model.add(Dense(15, activation='relu'))\n",
    "model.add(Dropout(0.1))\n",
    "model.add(Dense(1,activation='sigmoid'))\n",
    "model.compile(loss='binary_crossentropy',optimizer='adam')"
   ]
  },
  {
   "cell_type": "code",
   "execution_count": 25,
   "id": "96afbf6d",
   "metadata": {},
   "outputs": [],
   "source": [
    "early_stop=EarlyStopping(monitor='val_loss',mode='min',patience=25,verbose=1)"
   ]
  },
  {
   "cell_type": "code",
   "execution_count": null,
   "id": "b17446cd",
   "metadata": {},
   "outputs": [],
   "source": [
    "model.fit(x=X_train,y=y_train,validation_data=(X_test,y_test),epochs=450, verbose=1,callbacks=[early_stop])"
   ]
  },
  {
   "cell_type": "code",
   "execution_count": null,
   "id": "9590b8e1",
   "metadata": {},
   "outputs": [],
   "source": [
    "mod_loss=pd.DataFrame(model.history.history)\n",
    "mod_loss.plot()\n",
    "plt.show()"
   ]
  },
  {
   "cell_type": "code",
   "execution_count": null,
   "id": "504288e6",
   "metadata": {},
   "outputs": [],
   "source": [
    "from sklearn.metrics import confusion_matrix,classification_report,accuracy_score"
   ]
  },
  {
   "cell_type": "code",
   "execution_count": null,
   "id": "0609e19e",
   "metadata": {},
   "outputs": [],
   "source": [
    "y_prob = model.predict(X_test, verbose=0) \n",
    "predictions = y_prob.argmax(axis=-1)\n",
    "print('\\n')\n",
    "print(confusion_matrix(y_test,predictions))\n",
    "print('\\n')\n",
    "print(classification_report(y_test,predictions))\n",
    "print('\\n')\n",
    "print(\"The Accuracy Score : \",round(accuracy_score(y_test,predictions),2))"
   ]
  },
  {
   "cell_type": "code",
   "execution_count": null,
   "id": "a4e5f05d",
   "metadata": {},
   "outputs": [],
   "source": []
  },
  {
   "cell_type": "code",
   "execution_count": null,
   "id": "3eb3fe39",
   "metadata": {},
   "outputs": [],
   "source": [
    "parameters = {'C': [1,2,3,4,5,6], 'kernel': ['linear', 'poly', 'rbf', 'sigmoid']}\n",
    "\n",
    "svc_model = SVC()\n",
    "\n",
    "clf = GridSearchCV(svc_model, parameters)\n",
    "print(\"Searching for best hyperparameters ...\")\n",
    "clf.fit(x_train, y_train)\n",
    "print(f'Best Hyperparameters: {clf.best_params_}')\n",
    "\n",
    "y_pred = clf.predict(x_val)\n",
    "model_comparison['SVC'] = [accuracy_score(y_val,y_pred), f1_score(y_val,y_pred, average='weighted')]\n",
    "print('\\n')\n",
    "print(classification_report(y_val,y_pred, zero_division=1, digits=3))"
   ]
  },
  {
   "cell_type": "code",
   "execution_count": null,
   "id": "79fb35b1",
   "metadata": {},
   "outputs": [],
   "source": []
  },
  {
   "cell_type": "code",
   "execution_count": null,
   "id": "20d56419",
   "metadata": {},
   "outputs": [],
   "source": []
  },
  {
   "cell_type": "code",
   "execution_count": null,
   "id": "2c464a9a",
   "metadata": {},
   "outputs": [],
   "source": []
  }
 ],
 "metadata": {
  "kernelspec": {
   "display_name": "Python 3 (ipykernel)",
   "language": "python",
   "name": "python3"
  },
  "language_info": {
   "codemirror_mode": {
    "name": "ipython",
    "version": 3
   },
   "file_extension": ".py",
   "mimetype": "text/x-python",
   "name": "python",
   "nbconvert_exporter": "python",
   "pygments_lexer": "ipython3",
   "version": "3.9.12"
  }
 },
 "nbformat": 4,
 "nbformat_minor": 5
}
