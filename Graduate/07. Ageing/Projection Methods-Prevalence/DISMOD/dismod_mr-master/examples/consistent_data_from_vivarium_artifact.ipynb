{
 "cells": [
  {
   "cell_type": "code",
   "execution_count": 1,
   "metadata": {},
   "outputs": [
    {
     "name": "stdout",
     "output_type": "stream",
     "text": [
      "Tue Jul 23 11:31:36 PDT 2019\r\n"
     ]
    }
   ],
   "source": [
    "import numpy as np, matplotlib.pyplot as plt, pandas as pd\n",
    "pd.set_option('display.max_rows', 10)\n",
    "!date\n",
    "\n",
    "%load_ext autoreload\n",
    "%autoreload 2"
   ]
  },
  {
   "cell_type": "markdown",
   "metadata": {},
   "source": [
    "# Consistent models in DisMod-MR from Vivarium artifact draw\n",
    "\n",
    "Take i, r, f, p from a Vivarium artifact, and make a consistent version of them.  See how it compares to the original."
   ]
  },
  {
   "cell_type": "code",
   "execution_count": 2,
   "metadata": {},
   "outputs": [],
   "source": [
    "np.random.seed(123456)"
   ]
  },
  {
   "cell_type": "code",
   "execution_count": 3,
   "metadata": {},
   "outputs": [],
   "source": [
    "# if dismod_mr is not installed, it should possible to use\n",
    "# !conda install --yes pymc\n",
    "# !pip install dismod_mr"
   ]
  },
  {
   "cell_type": "code",
   "execution_count": 4,
   "metadata": {},
   "outputs": [],
   "source": [
    "import dismod_mr"
   ]
  },
  {
   "cell_type": "code",
   "execution_count": 5,
   "metadata": {
    "scrolled": true
   },
   "outputs": [],
   "source": [
    "# you also need one more pip installable package\n",
    "# !pip install vivarium_public_health"
   ]
  },
  {
   "cell_type": "code",
   "execution_count": 6,
   "metadata": {},
   "outputs": [],
   "source": [
    "import vivarium_public_health"
   ]
  },
  {
   "cell_type": "markdown",
   "metadata": {},
   "source": [
    "# Consistent fit with all data\n",
    "\n",
    "Let's start with a consistent fit of the simulated PD data.  This includes data on prevalence, incidence, and SMR, and the assumption that remission rate is zero.  All together this counts as four different data types in the DisMod-II accounting."
   ]
  },
  {
   "cell_type": "code",
   "execution_count": 7,
   "metadata": {
    "scrolled": true
   },
   "outputs": [],
   "source": [
    "from vivarium_public_health.dataset_manager import Artifact\n",
    "art = Artifact('/share/costeffectiveness/artifacts/obesity/obesity.hdf')"
   ]
  },
  {
   "cell_type": "code",
   "execution_count": 8,
   "metadata": {
    "scrolled": true
   },
   "outputs": [
    {
     "data": {
      "text/plain": [
       "[EntityKey(metadata.keyspace),\n",
       " EntityKey(metadata.versions),\n",
       " EntityKey(metadata.locations),\n",
       " EntityKey(population.demographic_dimensions),\n",
       " EntityKey(population.structure),\n",
       " EntityKey(cause.all_causes.cause_specific_mortality),\n",
       " EntityKey(population.theoretical_minimum_risk_life_expectancy),\n",
       " EntityKey(cause.ischemic_heart_disease.restrictions),\n",
       " EntityKey(cause.ischemic_stroke.restrictions),\n",
       " EntityKey(cause.diabetes_mellitus_type_2.restrictions),\n",
       " EntityKey(cause.asthma.restrictions),\n",
       " EntityKey(cause.gout.restrictions),\n",
       " EntityKey(cause.osteoarthritis.restrictions),\n",
       " EntityKey(cause.chronic_kidney_disease_due_to_hypertension.restrictions),\n",
       " EntityKey(cause.chronic_kidney_disease_due_to_glomerulonephritis.restrictions),\n",
       " EntityKey(cause.chronic_kidney_disease_due_to_other_and_unspecified_causes.restrictions),\n",
       " EntityKey(cause.chronic_kidney_disease_due_to_diabetes_mellitus_type_2.restrictions),\n",
       " EntityKey(risk_factor.high_body_mass_index_in_adults.exposure),\n",
       " EntityKey(risk_factor.high_body_mass_index_in_adults.distribution),\n",
       " EntityKey(risk_factor.high_body_mass_index_in_adults.exposure_standard_deviation),\n",
       " EntityKey(risk_factor.high_body_mass_index_in_adults.exposure_distribution_weights),\n",
       " EntityKey(risk_factor.high_body_mass_index_in_adults.population_attributable_fraction),\n",
       " EntityKey(risk_factor.high_body_mass_index_in_adults.tmred),\n",
       " EntityKey(risk_factor.high_body_mass_index_in_adults.relative_risk_scalar),\n",
       " EntityKey(population.age_bins),\n",
       " EntityKey(healthcare_entity.outpatient_visits.utilization),\n",
       " EntityKey(healthcare_entity.inpatient_visits.cost),\n",
       " EntityKey(healthcare_entity.outpatient_visits.cost),\n",
       " EntityKey(cause.ischemic_heart_disease.cause_specific_mortality),\n",
       " EntityKey(cause.ischemic_stroke.cause_specific_mortality),\n",
       " EntityKey(cause.diabetes_mellitus_type_2.cause_specific_mortality),\n",
       " EntityKey(cause.asthma.cause_specific_mortality),\n",
       " EntityKey(cause.chronic_kidney_disease_due_to_hypertension.cause_specific_mortality),\n",
       " EntityKey(cause.chronic_kidney_disease_due_to_glomerulonephritis.cause_specific_mortality),\n",
       " EntityKey(cause.chronic_kidney_disease_due_to_other_and_unspecified_causes.cause_specific_mortality),\n",
       " EntityKey(cause.chronic_kidney_disease_due_to_diabetes_mellitus_type_2.cause_specific_mortality),\n",
       " EntityKey(cause.ischemic_heart_disease.prevalence),\n",
       " EntityKey(cause.ischemic_heart_disease.disability_weight),\n",
       " EntityKey(cause.ischemic_heart_disease.excess_mortality),\n",
       " EntityKey(cause.ischemic_stroke.prevalence),\n",
       " EntityKey(cause.ischemic_stroke.disability_weight),\n",
       " EntityKey(cause.ischemic_stroke.excess_mortality),\n",
       " EntityKey(cause.diabetes_mellitus_type_2.prevalence),\n",
       " EntityKey(cause.diabetes_mellitus_type_2.disability_weight),\n",
       " EntityKey(cause.diabetes_mellitus_type_2.excess_mortality),\n",
       " EntityKey(cause.asthma.prevalence),\n",
       " EntityKey(cause.asthma.disability_weight),\n",
       " EntityKey(cause.asthma.excess_mortality),\n",
       " EntityKey(cause.gout.prevalence),\n",
       " EntityKey(cause.gout.disability_weight),\n",
       " EntityKey(cause.osteoarthritis.prevalence),\n",
       " EntityKey(cause.osteoarthritis.disability_weight),\n",
       " EntityKey(cause.chronic_kidney_disease_due_to_hypertension.prevalence),\n",
       " EntityKey(cause.chronic_kidney_disease_due_to_hypertension.disability_weight),\n",
       " EntityKey(cause.chronic_kidney_disease_due_to_hypertension.excess_mortality),\n",
       " EntityKey(cause.chronic_kidney_disease_due_to_glomerulonephritis.prevalence),\n",
       " EntityKey(cause.chronic_kidney_disease_due_to_glomerulonephritis.disability_weight),\n",
       " EntityKey(cause.chronic_kidney_disease_due_to_glomerulonephritis.excess_mortality),\n",
       " EntityKey(cause.chronic_kidney_disease_due_to_other_and_unspecified_causes.prevalence),\n",
       " EntityKey(cause.chronic_kidney_disease_due_to_other_and_unspecified_causes.disability_weight),\n",
       " EntityKey(cause.chronic_kidney_disease_due_to_other_and_unspecified_causes.excess_mortality),\n",
       " EntityKey(cause.chronic_kidney_disease_due_to_diabetes_mellitus_type_2.prevalence),\n",
       " EntityKey(cause.chronic_kidney_disease_due_to_diabetes_mellitus_type_2.disability_weight),\n",
       " EntityKey(cause.chronic_kidney_disease_due_to_diabetes_mellitus_type_2.excess_mortality),\n",
       " EntityKey(cause.ischemic_heart_disease.incidence),\n",
       " EntityKey(cause.ischemic_stroke.incidence),\n",
       " EntityKey(cause.diabetes_mellitus_type_2.incidence),\n",
       " EntityKey(cause.asthma.incidence),\n",
       " EntityKey(cause.gout.incidence),\n",
       " EntityKey(cause.osteoarthritis.incidence),\n",
       " EntityKey(cause.chronic_kidney_disease_due_to_hypertension.incidence),\n",
       " EntityKey(cause.chronic_kidney_disease_due_to_glomerulonephritis.incidence),\n",
       " EntityKey(cause.chronic_kidney_disease_due_to_other_and_unspecified_causes.incidence),\n",
       " EntityKey(cause.chronic_kidney_disease_due_to_diabetes_mellitus_type_2.incidence),\n",
       " EntityKey(risk_factor.high_body_mass_index_in_adults.relative_risk)]"
      ]
     },
     "execution_count": 8,
     "metadata": {},
     "output_type": "execute_result"
    }
   ],
   "source": [
    "art.keys"
   ]
  },
  {
   "cell_type": "code",
   "execution_count": 9,
   "metadata": {},
   "outputs": [],
   "source": [
    "def format_for_dismod(df, data_type):\n",
    "    df = df.query('draw==0 and sex==\"Female\" and year_start==2017').copy()\n",
    "    df['data_type'] = data_type\n",
    "    df['area'] = 'all'\n",
    "    df['standard_error'] = 0.001\n",
    "    df['upper_ci'] = np.nan\n",
    "    df['lower_ci'] = np.nan\n",
    "    df['effective_sample_size'] = 10_000\n",
    "\n",
    "    df['sex'] = 'total'\n",
    "    df = df.rename({'age_group_start': 'age_start',\n",
    "                                     'age_group_end': 'age_end',}, axis=1)\n",
    "    return df\n",
    "\n",
    "p = format_for_dismod(art.load('cause.ischemic_heart_disease.prevalence'), 'p')"
   ]
  },
  {
   "cell_type": "code",
   "execution_count": 10,
   "metadata": {
    "scrolled": false
   },
   "outputs": [],
   "source": [
    "i = format_for_dismod(art.load('cause.ischemic_heart_disease.incidence'), 'i')"
   ]
  },
  {
   "cell_type": "code",
   "execution_count": 11,
   "metadata": {},
   "outputs": [],
   "source": [
    "f = format_for_dismod(art.load('cause.ischemic_heart_disease.excess_mortality'), 'f')"
   ]
  },
  {
   "cell_type": "code",
   "execution_count": 12,
   "metadata": {},
   "outputs": [],
   "source": [
    "m_all = format_for_dismod(art.load('cause.all_causes.cause_specific_mortality'), 'm_all')"
   ]
  },
  {
   "cell_type": "code",
   "execution_count": 13,
   "metadata": {},
   "outputs": [],
   "source": [
    "csmr = format_for_dismod(art.load('cause.ischemic_heart_disease.cause_specific_mortality'), 'csmr') # could also try 'pf'"
   ]
  },
  {
   "cell_type": "code",
   "execution_count": 14,
   "metadata": {},
   "outputs": [],
   "source": [
    "dm = dismod_mr.data.ModelData()\n",
    "dm.input_data = pd.concat([p, i, f, m_all,\n",
    "                          csmr\n",
    "                          ], ignore_index=True)\n",
    "for rate_type in 'ifr':\n",
    "    dm.set_knots(rate_type, [0,40,60,80,90,100])\n",
    "\n",
    "dm.set_level_value('i', age_before=30, age_after=101, value=0)\n",
    "dm.set_increasing('i', age_start=50, age_end=100)\n",
    "\n",
    "dm.set_level_value('p', value=0, age_before=30, age_after=101)\n",
    "\n",
    "dm.set_level_value('r', value=0, age_before=101, age_after=101)"
   ]
  },
  {
   "cell_type": "code",
   "execution_count": 15,
   "metadata": {},
   "outputs": [
    {
     "data": {
      "text/plain": [
       "m_all    23\n",
       "f        23\n",
       "p        23\n",
       "csmr     23\n",
       "i        23\n",
       "Name: data_type, dtype: int64"
      ]
     },
     "execution_count": 15,
     "metadata": {},
     "output_type": "execute_result"
    }
   ],
   "source": [
    "dm.input_data.data_type.value_counts()"
   ]
  },
  {
   "cell_type": "code",
   "execution_count": 16,
   "metadata": {
    "scrolled": false
   },
   "outputs": [
    {
     "name": "stderr",
     "output_type": "stream",
     "text": [
      "/ihme/homes/abie/.local/lib/python3.6/site-packages/pandas/core/indexing.py:480: SettingWithCopyWarning: \n",
      "A value is trying to be set on a copy of a slice from a DataFrame.\n",
      "Try using .loc[row_indexer,col_indexer] = value instead\n",
      "\n",
      "See the caveats in the documentation: http://pandas.pydata.org/pandas-docs/stable/user_guide/indexing.html#returning-a-view-versus-a-copy\n",
      "  self.obj[item] = s\n",
      "/ihme/homes/abie/.local/lib/python3.6/site-packages/pandas/core/indexing.py:480: SettingWithCopyWarning: \n",
      "A value is trying to be set on a copy of a slice from a DataFrame.\n",
      "Try using .loc[row_indexer,col_indexer] = value instead\n",
      "\n",
      "See the caveats in the documentation: http://pandas.pydata.org/pandas-docs/stable/user_guide/indexing.html#returning-a-view-versus-a-copy\n",
      "  self.obj[item] = s\n"
     ]
    }
   ],
   "source": [
    "dm.setup_model(rate_model='normal', include_covariates=False)"
   ]
  },
  {
   "cell_type": "code",
   "execution_count": 17,
   "metadata": {},
   "outputs": [],
   "source": [
    "import pymc as pm\n",
    "m = pm.MAP(dm.vars)"
   ]
  },
  {
   "cell_type": "code",
   "execution_count": 18,
   "metadata": {
    "scrolled": false
   },
   "outputs": [
    {
     "name": "stdout",
     "output_type": "stream",
     "text": [
      "Current log-probability : 1347.572455\n",
      "Current log-probability : 1377.997951\n",
      "Current log-probability : 1396.019187\n",
      "Current log-probability : 1400.324203\n",
      "Current log-probability : 1400.952332\n",
      "Current log-probability : 1401.056619\n",
      "Optimization terminated successfully.\n",
      "         Current function value: -1401.056619\n",
      "         Iterations: 6\n",
      "         Function evaluations: 7548\n",
      "CPU times: user 26.7 s, sys: 43.6 ms, total: 26.7 s\n",
      "Wall time: 26.7 s\n"
     ]
    }
   ],
   "source": [
    "%%time\n",
    "m.fit(verbose=1)"
   ]
  },
  {
   "cell_type": "code",
   "execution_count": 19,
   "metadata": {},
   "outputs": [],
   "source": [
    "from IPython.core.pylabtools import figsize\n",
    "figsize(11, 5.5)"
   ]
  },
  {
   "cell_type": "code",
   "execution_count": 20,
   "metadata": {},
   "outputs": [
    {
     "data": {
      "image/png": "[encoded data removed]",
      "text/plain": [
       "<Figure size 792x396 with 4 Axes>"
      ]
     },
     "metadata": {
      "needs_background": "light"
     },
     "output_type": "display_data"
    }
   ],
   "source": [
    "dm.plot()"
   ]
  },
  {
   "cell_type": "code",
   "execution_count": 21,
   "metadata": {},
   "outputs": [
    {
     "name": "stdout",
     "output_type": "stream",
     "text": [
      "Tue Jul 23 11:33:23 PDT 2019\r\n"
     ]
    }
   ],
   "source": [
    "!date"
   ]
  }
 ],
 "metadata": {
  "kernelspec": {
   "display_name": "dismod_mr",
   "language": "python",
   "name": "dismod_mr"
  },
  "language_info": {
   "codemirror_mode": {
    "name": "ipython",
    "version": 3
   },
   "file_extension": ".py",
   "mimetype": "text/x-python",
   "name": "python",
   "nbconvert_exporter": "python",
   "pygments_lexer": "ipython3",
   "version": "3.6.8"
  }
 },
 "nbformat": 4,
 "nbformat_minor": 1
}
