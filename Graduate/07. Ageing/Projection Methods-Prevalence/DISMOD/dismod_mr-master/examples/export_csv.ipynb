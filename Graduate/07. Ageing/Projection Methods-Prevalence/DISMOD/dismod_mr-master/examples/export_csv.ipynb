{
 "cells": [
  {
   "cell_type": "markdown",
   "metadata": {},
   "source": [
    "# Getting estimates out of DisMod-MR\n",
    "\n",
    "The goal of this document is to demonstrate how to export age-specific prevalence estimates from DisMod-MR in a comma-separated value (CSV) format, for use in subsequent analysis.\n",
    "\n",
    "It uses data from the replication dataset for regional estimates of HCV prevalence, as published in Mohd Hanafiah K, Groeger J, Flaxman AD, Wiersma ST. Global epidemiology of hepatitis C virus infection: New estimates of age-specific antibody to HCV seroprevalence. Hepatology. 2013 Apr;57(4):1333-42. doi: 10.1002/hep.26141. Epub 2013 Feb 4.  http://www.ncbi.nlm.nih.gov/pubmed/23172780\n",
    "\n",
    "The dataset is available from: http://ghdx.healthdata.org/sites/default/files/record-attached-files/IHME_GBD_HEP_C_RESEARCH_ARCHIVE_Y2013M04D12.ZIP\n",
    "\n",
    "    wget http://ghdx.healthdata.org/sites/default/files/record-attached-files/IHME_GBD_HEP_C_RESEARCH_ARCHIVE_Y2013M04D12.ZIP\n",
    "    unzip IHME_GBD_HEP_C_RESEARCH_ARCHIVE_Y2013M04D12.ZIP"
   ]
  },
  {
   "cell_type": "code",
   "execution_count": 1,
   "metadata": {},
   "outputs": [
    {
     "name": "stdout",
     "output_type": "stream",
     "text": [
      "--2019-07-23 13:51:38--  http://ghdx.healthdata.org/sites/default/files/record-attached-files/IHME_GBD_HEP_C_RESEARCH_ARCHIVE_Y2013M04D12.ZIP\n",
      "Resolving ghdx.healthdata.org (ghdx.healthdata.org)... 2606:4700:10::6814:316, 2606:4700:10::6814:216, 104.20.3.22, ...\n",
      "Connecting to ghdx.healthdata.org (ghdx.healthdata.org)|2606:4700:10::6814:316|:80... connected.\n",
      "HTTP request sent, awaiting response... 200 OK\n",
      "Length: 74164 (72K) [application/zip]\n",
      "Saving to: 'IHME_GBD_HEP_C_RESEARCH_ARCHIVE_Y2013M04D12.ZIP'\n",
      "\n",
      "100%[======================================>] 74,164      --.-K/s   in 0s      \n",
      "\n",
      "2019-07-23 13:51:38 (622 MB/s) - 'IHME_GBD_HEP_C_RESEARCH_ARCHIVE_Y2013M04D12.ZIP' saved [74164/74164]\n",
      "\n",
      "Archive:  IHME_GBD_HEP_C_RESEARCH_ARCHIVE_Y2013M04D12.ZIP\n",
      "  inflating: hcv_replication/2013_04_12_hcv_replication_code.ipynb  \n",
      "  inflating: hcv_replication/2013_04_12_hcv_replication_code.py  \n",
      "  inflating: hcv_replication/hierarchy.json  \n",
      "  inflating: hcv_replication/input_data.csv  \n",
      "  inflating: hcv_replication/nodes_to_fit.json  \n",
      "  inflating: hcv_replication/output_template.csv  \n",
      "  inflating: hcv_replication/parameters.json  \n",
      "  inflating: hcv_replication/README  \n",
      "  inflating: hcv_replication/README~  \n"
     ]
    }
   ],
   "source": [
    "!wget http://ghdx.healthdata.org/sites/default/files/record-attached-files/IHME_GBD_HEP_C_RESEARCH_ARCHIVE_Y2013M04D12.ZIP\n",
    "!unzip IHME_GBD_HEP_C_RESEARCH_ARCHIVE_Y2013M04D12.ZIP"
   ]
  },
  {
   "cell_type": "code",
   "execution_count": 2,
   "metadata": {},
   "outputs": [],
   "source": [
    "# This Python code will export predictions \n",
    "# for the following region/sex/year:\n",
    "predict_region = 'USA'\n",
    "predict_sex = 'male'\n",
    "predict_year = 2005"
   ]
  },
  {
   "cell_type": "code",
   "execution_count": 3,
   "metadata": {},
   "outputs": [],
   "source": [
    "# import dismod code\n",
    "import dismod_mr"
   ]
  },
  {
   "cell_type": "markdown",
   "metadata": {},
   "source": [
    "Load the model, and keep only data for the prediction region/sex/year"
   ]
  },
  {
   "cell_type": "code",
   "execution_count": 4,
   "metadata": {},
   "outputs": [
    {
     "name": "stdout",
     "output_type": "stream",
     "text": [
      "kept 20 rows of data\n"
     ]
    }
   ],
   "source": [
    "model_path = 'hcv_replication/'\n",
    "dm = dismod_mr.data.load(model_path)\n",
    "\n",
    "if predict_year == 2005:\n",
    "    dm.keep(areas=[predict_region], sexes=['total', predict_sex], start_year=1997)\n",
    "elif predict_year == 1990:\n",
    "    dm.keep(areas=[predict_region], sexes=['total', predict_sex], end_year=1997)\n",
    "else:\n",
    "    raise(Error, 'predict_year must equal 1990 or 2005')"
   ]
  },
  {
   "cell_type": "code",
   "execution_count": 5,
   "metadata": {},
   "outputs": [
    {
     "name": "stdout",
     "output_type": "stream",
     "text": [
      "using stored FE for beta_p_x_sex x_sex {'mu': 0.0, 'dist': 'Normal', 'sigma': 0.0001}\n",
      "finding initial values\n",
      ". . . \n",
      "finding MAP estimate\n",
      "\n",
      "finding step covariances estimate\n",
      "\n",
      "resetting initial values (1)\n",
      ". . . \n",
      "resetting initial values (2)\n",
      "\n",
      "mare: 0.36\n",
      "sampling from posterior\n",
      "\n",
      "CPU times: user 1min 22s, sys: 0 ns, total: 1min 22s\n",
      "Wall time: 1min 22s\n"
     ]
    },
    {
     "data": {
      "text/plain": [
       "(<pymc.NormalApproximation.MAP at 0x7f6c0e29aba8>,\n",
       " <pymc.MCMC.MCMC at 0x7f6c15c746a0>)"
      ]
     },
     "execution_count": 5,
     "metadata": {},
     "output_type": "execute_result"
    }
   ],
   "source": [
    "# Fit model using the data subset (faster, but no borrowing strength)\n",
    "dm.vars += dismod_mr.model.process.age_specific_rate(dm, 'p', predict_region, predict_sex, predict_year)\n",
    "%time dismod_mr.fit.asr(dm, 'p', iter=2000, burn=1000, thin=1)"
   ]
  },
  {
   "cell_type": "code",
   "execution_count": 6,
   "metadata": {},
   "outputs": [],
   "source": [
    "# Make posterior predictions\n",
    "pred = dismod_mr.model.covariates.predict_for(\n",
    "            dm, dm.parameters['p'],\n",
    "            predict_region, predict_sex, predict_year,\n",
    "            predict_region, predict_sex, predict_year, True, dm.vars['p'], 0, 1)"
   ]
  },
  {
   "cell_type": "markdown",
   "metadata": {},
   "source": [
    "The easiest way to get these predictions into a csv file is to use the Python Pandas package:"
   ]
  },
  {
   "cell_type": "code",
   "execution_count": 7,
   "metadata": {},
   "outputs": [],
   "source": [
    "import pandas as pd"
   ]
  },
  {
   "cell_type": "code",
   "execution_count": 8,
   "metadata": {},
   "outputs": [],
   "source": [
    "# This generates a csv with 1000 rows,\n",
    "# one for each draw from the posterior distribution\n",
    "\n",
    "# Each column corresponds to a one-year age group,\n",
    "# e.g. column 10 is prevalence at age 10\n",
    "\n",
    "pd.DataFrame(pred).to_csv(\n",
    "    model_path + '%s-%s-%s.csv'%(predict_region, predict_sex, predict_year))"
   ]
  },
  {
   "cell_type": "code",
   "execution_count": 9,
   "metadata": {},
   "outputs": [
    {
     "name": "stdout",
     "output_type": "stream",
     "text": [
      "-rw-r--r-- 1 abie Domain Users 2.1M Jul 23 13:53 hcv_replication/USA-male-2005.csv\r\n"
     ]
    }
   ],
   "source": [
    "!ls -hal hcv_replication/$predict_region-*.csv"
   ]
  },
  {
   "cell_type": "markdown",
   "metadata": {},
   "source": [
    "To aggregate this into pre-specified age categories, you need to specify the age weights and groups:"
   ]
  },
  {
   "cell_type": "code",
   "execution_count": 10,
   "metadata": {},
   "outputs": [],
   "source": [
    "weights = [1, 8, 8, 9, 9, 10, 10, 10, 10, 10,\n",
    "           10, 10, 10, 10, 9, 9, 9, 9, 9, 9,\n",
    "           9, 9, 9, 9, 9, 9, 9, 9, 9, 9,\n",
    "           9, 9, 8, 8, 8, 8, 8, 8, 8, 8,\n",
    "           8, 7, 7, 7, 7, 7, 7, 7, 7, 7,\n",
    "           6, 6, 6, 6, 6, 6, 5, 5, 5, 5,\n",
    "           5, 5, 4, 4, 4, 4, 4, 4, 4, 3,\n",
    "           3, 3, 3, 3, 3, 3, 3, 3, 3, 3,\n",
    "           3, 1, 1, 1, 1, 1, 1, 1, 1, 1,\n",
    "           1, 1, 1, 1, 1, 1, 1, 1, 1, 1, 1]"
   ]
  },
  {
   "cell_type": "code",
   "execution_count": 11,
   "metadata": {},
   "outputs": [
    {
     "data": {
      "image/png": "[encoded data removed]",
      "text/plain": [
       "<Figure size 432x288 with 1 Axes>"
      ]
     },
     "metadata": {
      "needs_background": "light"
     },
     "output_type": "display_data"
    }
   ],
   "source": [
    "# 1000 samples from the posterior distribution for age-standardized prevalence\n",
    "import numpy as np, matplotlib.pyplot as plt\n",
    "\n",
    "age_std = np.dot(pred, weights) / np.sum(weights)\n",
    "plt.hist(age_std, color='#cccccc', density=True)\n",
    "plt.xlabel('Age-standardized Prevalence')\n",
    "plt.ylabel('Posterior Probability');"
   ]
  },
  {
   "cell_type": "markdown",
   "metadata": {},
   "source": [
    "You can extract an age-standardized point and interval estimate from the 1000 draws from the posterior distribution stored in age_std as follows:  (to do this for crude prevalence, use the population weights to average, instead of standard weights.)"
   ]
  },
  {
   "cell_type": "code",
   "execution_count": 12,
   "metadata": {},
   "outputs": [
    {
     "name": "stdout",
     "output_type": "stream",
     "text": [
      "age_std prev mean: 0.013684724543190618\n",
      "age_std prev 95% UI: [0.01056258 0.01612552]\n"
     ]
    }
   ],
   "source": [
    "import pymc as mc\n",
    "\n",
    "print('age_std prev mean:', age_std.mean())\n",
    "print('age_std prev 95% UI:', mc.utils.hpd(age_std, .05))"
   ]
  },
  {
   "cell_type": "markdown",
   "metadata": {},
   "source": [
    "For groups, just do the same thing group by group:"
   ]
  },
  {
   "cell_type": "code",
   "execution_count": 13,
   "metadata": {},
   "outputs": [],
   "source": [
    "group_cutpoints = [0, 1,  5, 10, 15, 20, 25, 30, 35, 40, 45, 50, 55, 60, 65, 70, 75, 80, 100]"
   ]
  },
  {
   "cell_type": "code",
   "execution_count": 14,
   "metadata": {},
   "outputs": [
    {
     "name": "stdout",
     "output_type": "stream",
     "text": [
      "   a0  a1   mu  std\n",
      "0   0   1  0.0  0.0\n",
      "1   1   5  0.0  0.0\n",
      "2   5  10  0.0  0.0\n",
      "3  10  15  0.0  0.0\n",
      "4  15  20  0.0  0.0\n"
     ]
    }
   ],
   "source": [
    "results = []\n",
    "for a0, a1 in zip(group_cutpoints[:-1], group_cutpoints[1:]):\n",
    "    age_grp = np.dot(pred[:, a0:a1], weights[a0:a1]) / np.sum(weights[a0:a1])\n",
    "    results.append(dict(a0=a0,a1=a1,mu=age_grp.mean(),std=age_grp.std()))\n",
    "    \n",
    "results = pd.DataFrame(results)\n",
    "print(np.round(results.head(), 2))"
   ]
  },
  {
   "cell_type": "code",
   "execution_count": 15,
   "metadata": {},
   "outputs": [
    {
     "data": {
      "image/png": "[encoded data removed]",
      "text/plain": [
       "<Figure size 432x288 with 1 Axes>"
      ]
     },
     "metadata": {
      "needs_background": "light"
     },
     "output_type": "display_data"
    }
   ],
   "source": [
    "plt.errorbar(.5*(results.a0+results.a1), results.mu,\n",
    "             xerr=.5*(results.a1-results.a0),\n",
    "             yerr=1.96*results['std'],\n",
    "             fmt='ks', capsize=0, mec='w')\n",
    "plt.axis(ymin=0, xmax=100);"
   ]
  },
  {
   "cell_type": "code",
   "execution_count": 18,
   "metadata": {},
   "outputs": [],
   "source": [
    "!rm IHME_GBD_HEP_C_RESEARCH_ARCHIVE_Y2013M04D12.ZIP\n",
    "!rm -r hcv_replication/"
   ]
  },
  {
   "cell_type": "code",
   "execution_count": 17,
   "metadata": {},
   "outputs": [
    {
     "name": "stdout",
     "output_type": "stream",
     "text": [
      "Tue Jul 23 13:53:06 PDT 2019\r\n"
     ]
    }
   ],
   "source": [
    "!date"
   ]
  }
 ],
 "metadata": {
  "kernelspec": {
   "display_name": "Python 3",
   "language": "python",
   "name": "python3"
  },
  "language_info": {
   "codemirror_mode": {
    "name": "ipython",
    "version": 3
   },
   "file_extension": ".py",
   "mimetype": "text/x-python",
   "name": "python",
   "nbconvert_exporter": "python",
   "pygments_lexer": "ipython3",
   "version": "3.6.13"
  }
 },
 "nbformat": 4,
 "nbformat_minor": 1
}
